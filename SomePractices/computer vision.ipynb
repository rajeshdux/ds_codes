{
 "cells": [
  {
   "cell_type": "code",
   "execution_count": 6,
   "metadata": {},
   "outputs": [],
   "source": [
    "# Import\n",
    "import pandas as pd\n",
    "import numpy as np\n",
    "import random\n",
    "import matplotlib.pyplot as plt\n",
    "import tensorflow as tf\n",
    "from keras.utils.np_utils import to_categorical \n",
    "from sklearn.model_selection import train_test_split"
   ]
  },
  {
   "cell_type": "code",
   "execution_count": 8,
   "metadata": {},
   "outputs": [],
   "source": [
    "# Load data\n",
    "train = pd.read_csv('Dataset/digit-recognizer/train.csv')\n",
    "test = pd.read_csv('Dataset/digit-recognizer/test.csv')\n",
    "subs =  pd.read_csv('Dataset/digit-recognizer/sample_submission.csv')"
   ]
  },
  {
   "cell_type": "code",
   "execution_count": 10,
   "metadata": {},
   "outputs": [
    {
     "name": "stdout",
     "output_type": "stream",
     "text": [
      "Null values in train data: 0\n",
      "Null values in test data: 0\n"
     ]
    }
   ],
   "source": [
    "# Find null-values\n",
    "print('Null values in train data: ' + str(train.isnull().any().sum()))\n",
    "print('Null values in test data: ' + str(test.isnull().any().sum()))"
   ]
  },
  {
   "cell_type": "code",
   "execution_count": 11,
   "metadata": {},
   "outputs": [],
   "source": [
    "# Split data for train and prediction datasets\n",
    "X = train.drop('label', axis=1).values\n",
    "y = train.label.values\n",
    "X_pred = test.values\n",
    "X = X / 255\n",
    "X_pred = X_pred / 255"
   ]
  },
  {
   "cell_type": "code",
   "execution_count": 15,
   "metadata": {},
   "outputs": [
    {
     "data": {
      "text/plain": [
       "(42000, 784)"
      ]
     },
     "execution_count": 15,
     "metadata": {},
     "output_type": "execute_result"
    }
   ],
   "source": [
    "X.shape"
   ]
  },
  {
   "cell_type": "code",
   "execution_count": 16,
   "metadata": {},
   "outputs": [
    {
     "data": {
      "image/png": "[encoded data removed]",
      "text/plain": [
       "<Figure size 432x288 with 5 Axes>"
      ]
     },
     "metadata": {
      "needs_background": "light"
     },
     "output_type": "display_data"
    }
   ],
   "source": [
    "# Show 5 random samples from train data\n",
    "nn = 5\n",
    "for i, num in enumerate([random.randint(1, X.shape[0]) for _ in range(nn)]):\n",
    "    plt.subplot(1, nn, i+1)\n",
    "    plt.xlabel(y[num])\n",
    "    plt.imshow(X[num].reshape(28, 28))"
   ]
  },
  {
   "cell_type": "code",
   "execution_count": 17,
   "metadata": {},
   "outputs": [
    {
     "name": "stdout",
     "output_type": "stream",
     "text": [
      "(42000, 784)\n",
      "(42000,)\n",
      "(28000, 784)\n"
     ]
    }
   ],
   "source": [
    "# Data shape\n",
    "print(X.shape)\n",
    "print(y.shape)\n",
    "print(X_pred.shape)"
   ]
  },
  {
   "cell_type": "code",
   "execution_count": 18,
   "metadata": {},
   "outputs": [],
   "source": [
    "# Convert data\n",
    "X = X.reshape([42000,28,28,1])\n",
    "y = y.reshape([42000,1])\n",
    "X_pred = X_pred.reshape([28000,28,28,1])\n",
    "y = to_categorical(y, num_classes = 10)"
   ]
  },
  {
   "cell_type": "code",
   "execution_count": 21,
   "metadata": {},
   "outputs": [],
   "source": [
    "# Split X and y data for train and test datasets\n",
    "X_train, X_test, y_train, y_test = train_test_split(X, y, test_size = 0.1)"
   ]
  },
  {
   "cell_type": "code",
   "execution_count": 22,
   "metadata": {},
   "outputs": [
    {
     "name": "stdout",
     "output_type": "stream",
     "text": [
      "Model: \"sequential\"\n",
      "_________________________________________________________________\n",
      "Layer (type)                 Output Shape              Param #   \n",
      "=================================================================\n",
      "conv2d (Conv2D)              (None, 28, 28, 64)        640       \n",
      "_________________________________________________________________\n",
      "max_pooling2d (MaxPooling2D) (None, 14, 14, 64)        0         \n",
      "_________________________________________________________________\n",
      "dropout (Dropout)            (None, 14, 14, 64)        0         \n",
      "_________________________________________________________________\n",
      "flatten (Flatten)            (None, 12544)             0         \n",
      "_________________________________________________________________\n",
      "dense (Dense)                (None, 256)               3211520   \n",
      "_________________________________________________________________\n",
      "dropout_1 (Dropout)          (None, 256)               0         \n",
      "_________________________________________________________________\n",
      "dense_1 (Dense)              (None, 10)                2570      \n",
      "=================================================================\n",
      "Total params: 3,214,730\n",
      "Trainable params: 3,214,730\n",
      "Non-trainable params: 0\n",
      "_________________________________________________________________\n",
      "None\n"
     ]
    }
   ],
   "source": [
    "# Make model\n",
    "model = tf.keras.Sequential([])\n",
    "model.add(tf.keras.layers.Conv2D(64, (3, 3), padding = 'same', activation='relu', input_shape=(28, 28, 1)))\n",
    "model.add(tf.keras.layers.MaxPooling2D(2, 2)),\n",
    "model.add(tf.keras.layers.Dropout(0.25))\n",
    "model.add(tf.keras.layers.Flatten())\n",
    "model.add(tf.keras.layers.Dense(256, activation='relu'))\n",
    "model.add(tf.keras.layers.Dropout(0.5))\n",
    "model.add(tf.keras.layers.Dense(10, activation='softmax'))\n",
    "print(model.summary())"
   ]
  },
  {
   "cell_type": "code",
   "execution_count": 23,
   "metadata": {},
   "outputs": [],
   "source": [
    "# Complile model\n",
    "model.compile(optimizer='adam', \n",
    "              loss='categorical_crossentropy', \n",
    "              metrics=['accuracy']\n",
    "             )"
   ]
  },
  {
   "cell_type": "code",
   "execution_count": 24,
   "metadata": {},
   "outputs": [
    {
     "name": "stdout",
     "output_type": "stream",
     "text": [
      "Epoch 1/10\n",
      "1182/1182 [==============================] - 210s 74ms/step - loss: 0.4152 - accuracy: 0.8689 - val_loss: 0.0871 - val_accuracy: 0.9712\n",
      "Epoch 2/10\n",
      "1182/1182 [==============================] - 77s 65ms/step - loss: 0.0976 - accuracy: 0.9703 - val_loss: 0.0607 - val_accuracy: 0.9814\n",
      "Epoch 3/10\n",
      "1182/1182 [==============================] - 74s 62ms/step - loss: 0.0722 - accuracy: 0.9779 - val_loss: 0.0592 - val_accuracy: 0.9802\n",
      "Epoch 4/10\n",
      "1182/1182 [==============================] - 74s 63ms/step - loss: 0.0538 - accuracy: 0.9840 - val_loss: 0.0444 - val_accuracy: 0.9857\n",
      "Epoch 5/10\n",
      "1182/1182 [==============================] - 75s 63ms/step - loss: 0.0433 - accuracy: 0.9858 - val_loss: 0.0487 - val_accuracy: 0.9838\n",
      "Epoch 6/10\n",
      "1182/1182 [==============================] - 75s 64ms/step - loss: 0.0396 - accuracy: 0.9872 - val_loss: 0.0468 - val_accuracy: 0.9864\n",
      "Epoch 7/10\n",
      "1182/1182 [==============================] - 75s 64ms/step - loss: 0.0309 - accuracy: 0.9899 - val_loss: 0.0454 - val_accuracy: 0.9862\n",
      "Epoch 8/10\n",
      "1182/1182 [==============================] - 75s 64ms/step - loss: 0.0287 - accuracy: 0.9896 - val_loss: 0.0625 - val_accuracy: 0.9843\n",
      "Epoch 9/10\n",
      "1182/1182 [==============================] - 77s 65ms/step - loss: 0.0245 - accuracy: 0.9923 - val_loss: 0.0513 - val_accuracy: 0.9860\n",
      "Epoch 10/10\n",
      "1182/1182 [==============================] - 77s 65ms/step - loss: 0.0255 - accuracy: 0.9916 - val_loss: 0.0444 - val_accuracy: 0.9879\n"
     ]
    },
    {
     "data": {
      "text/plain": [
       "<tensorflow.python.keras.callbacks.History at 0x8883c26040>"
      ]
     },
     "execution_count": 24,
     "metadata": {},
     "output_type": "execute_result"
    }
   ],
   "source": [
    "# Fit model\n",
    "model.fit(X_train, y_train, validation_data = (X_test,y_test), epochs=10)"
   ]
  },
  {
   "cell_type": "code",
   "execution_count": 25,
   "metadata": {},
   "outputs": [
    {
     "name": "stdout",
     "output_type": "stream",
     "text": [
      "132/132 [==============================] - 3s 23ms/step - loss: 0.0444 - accuracy: 0.9879\n"
     ]
    },
    {
     "data": {
      "text/plain": [
       "[0.044408220797777176, 0.9878571629524231]"
      ]
     },
     "execution_count": 25,
     "metadata": {},
     "output_type": "execute_result"
    }
   ],
   "source": [
    "# Evaluation\n",
    "model.evaluate(X_test,y_test)"
   ]
  },
  {
   "cell_type": "code",
   "execution_count": 26,
   "metadata": {},
   "outputs": [],
   "source": [
    "# Predict data\n",
    "predictions = model.predict(X_pred)\n",
    "y_pred = np.argmax(predictions, axis=1)"
   ]
  },
  {
   "cell_type": "code",
   "execution_count": 27,
   "metadata": {},
   "outputs": [
    {
     "data": {
      "image/png": "[encoded data removed]",
      "text/plain": [
       "<Figure size 432x288 with 5 Axes>"
      ]
     },
     "metadata": {
      "needs_background": "light"
     },
     "output_type": "display_data"
    }
   ],
   "source": [
    "# Show 5 random prediction\n",
    "nn = 5\n",
    "for i, num in enumerate([random.randint(1, X_pred.shape[0]) for _ in range(nn)]):\n",
    "    plt.subplot(1, nn, i+1)\n",
    "    plt.xlabel(y_pred[num])\n",
    "    plt.imshow(X_pred[num].reshape(28, 28))"
   ]
  },
  {
   "cell_type": "code",
   "execution_count": 28,
   "metadata": {},
   "outputs": [],
   "source": [
    "# Save data\n",
    "subs['Label'] = pd.DataFrame(y_pred)\n",
    "subs.to_csv('./DRSubmissions.csv', index = False)"
   ]
  }
 ],
 "metadata": {
  "kernelspec": {
   "display_name": "Python 3",
   "language": "python",
   "name": "python3"
  },
  "language_info": {
   "codemirror_mode": {
    "name": "ipython",
    "version": 3
   },
   "file_extension": ".py",
   "mimetype": "text/x-python",
   "name": "python",
   "nbconvert_exporter": "python",
   "pygments_lexer": "ipython3",
   "version": "3.8.3"
  }
 },
 "nbformat": 4,
 "nbformat_minor": 4
}

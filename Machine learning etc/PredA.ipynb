{
 "cells": [
  {
   "cell_type": "code",
   "execution_count": 16,
   "metadata": {},
   "outputs": [
    {
     "data": {
      "text/html": [
       "<div>\n",
       "<style scoped>\n",
       "    .dataframe tbody tr th:only-of-type {\n",
       "        vertical-align: middle;\n",
       "    }\n",
       "\n",
       "    .dataframe tbody tr th {\n",
       "        vertical-align: top;\n",
       "    }\n",
       "\n",
       "    .dataframe thead th {\n",
       "        text-align: right;\n",
       "    }\n",
       "</style>\n",
       "<table border=\"1\" class=\"dataframe\">\n",
       "  <thead>\n",
       "    <tr style=\"text-align: right;\">\n",
       "      <th></th>\n",
       "      <th>pclass</th>\n",
       "      <th>survived</th>\n",
       "      <th>name</th>\n",
       "      <th>sex</th>\n",
       "      <th>age</th>\n",
       "      <th>sibsp</th>\n",
       "      <th>parch</th>\n",
       "      <th>ticket</th>\n",
       "      <th>fare</th>\n",
       "      <th>cabin</th>\n",
       "      <th>embarked</th>\n",
       "      <th>boat</th>\n",
       "      <th>body</th>\n",
       "      <th>home.dest</th>\n",
       "    </tr>\n",
       "  </thead>\n",
       "  <tbody>\n",
       "    <tr>\n",
       "      <td>0</td>\n",
       "      <td>1.0</td>\n",
       "      <td>1.0</td>\n",
       "      <td>Allen, Miss. Elisabeth Walton</td>\n",
       "      <td>female</td>\n",
       "      <td>29.0000</td>\n",
       "      <td>0.0</td>\n",
       "      <td>0.0</td>\n",
       "      <td>24160</td>\n",
       "      <td>211.3375</td>\n",
       "      <td>B5</td>\n",
       "      <td>S</td>\n",
       "      <td>2</td>\n",
       "      <td>NaN</td>\n",
       "      <td>St Louis, MO</td>\n",
       "    </tr>\n",
       "    <tr>\n",
       "      <td>1</td>\n",
       "      <td>1.0</td>\n",
       "      <td>1.0</td>\n",
       "      <td>Allison, Master. Hudson Trevor</td>\n",
       "      <td>male</td>\n",
       "      <td>0.9167</td>\n",
       "      <td>1.0</td>\n",
       "      <td>2.0</td>\n",
       "      <td>113781</td>\n",
       "      <td>151.5500</td>\n",
       "      <td>C22 C26</td>\n",
       "      <td>S</td>\n",
       "      <td>11</td>\n",
       "      <td>NaN</td>\n",
       "      <td>Montreal, PQ / Chesterville, ON</td>\n",
       "    </tr>\n",
       "    <tr>\n",
       "      <td>2</td>\n",
       "      <td>1.0</td>\n",
       "      <td>0.0</td>\n",
       "      <td>Allison, Miss. Helen Loraine</td>\n",
       "      <td>female</td>\n",
       "      <td>2.0000</td>\n",
       "      <td>1.0</td>\n",
       "      <td>2.0</td>\n",
       "      <td>113781</td>\n",
       "      <td>151.5500</td>\n",
       "      <td>C22 C26</td>\n",
       "      <td>S</td>\n",
       "      <td>NaN</td>\n",
       "      <td>NaN</td>\n",
       "      <td>Montreal, PQ / Chesterville, ON</td>\n",
       "    </tr>\n",
       "    <tr>\n",
       "      <td>3</td>\n",
       "      <td>1.0</td>\n",
       "      <td>0.0</td>\n",
       "      <td>Allison, Mr. Hudson Joshua Creighton</td>\n",
       "      <td>male</td>\n",
       "      <td>30.0000</td>\n",
       "      <td>1.0</td>\n",
       "      <td>2.0</td>\n",
       "      <td>113781</td>\n",
       "      <td>151.5500</td>\n",
       "      <td>C22 C26</td>\n",
       "      <td>S</td>\n",
       "      <td>NaN</td>\n",
       "      <td>135.0</td>\n",
       "      <td>Montreal, PQ / Chesterville, ON</td>\n",
       "    </tr>\n",
       "    <tr>\n",
       "      <td>4</td>\n",
       "      <td>1.0</td>\n",
       "      <td>0.0</td>\n",
       "      <td>Allison, Mrs. Hudson J C (Bessie Waldo Daniels)</td>\n",
       "      <td>female</td>\n",
       "      <td>25.0000</td>\n",
       "      <td>1.0</td>\n",
       "      <td>2.0</td>\n",
       "      <td>113781</td>\n",
       "      <td>151.5500</td>\n",
       "      <td>C22 C26</td>\n",
       "      <td>S</td>\n",
       "      <td>NaN</td>\n",
       "      <td>NaN</td>\n",
       "      <td>Montreal, PQ / Chesterville, ON</td>\n",
       "    </tr>\n",
       "    <tr>\n",
       "      <td>...</td>\n",
       "      <td>...</td>\n",
       "      <td>...</td>\n",
       "      <td>...</td>\n",
       "      <td>...</td>\n",
       "      <td>...</td>\n",
       "      <td>...</td>\n",
       "      <td>...</td>\n",
       "      <td>...</td>\n",
       "      <td>...</td>\n",
       "      <td>...</td>\n",
       "      <td>...</td>\n",
       "      <td>...</td>\n",
       "      <td>...</td>\n",
       "      <td>...</td>\n",
       "    </tr>\n",
       "    <tr>\n",
       "      <td>1305</td>\n",
       "      <td>3.0</td>\n",
       "      <td>0.0</td>\n",
       "      <td>Zabour, Miss. Thamine</td>\n",
       "      <td>female</td>\n",
       "      <td>NaN</td>\n",
       "      <td>1.0</td>\n",
       "      <td>0.0</td>\n",
       "      <td>2665</td>\n",
       "      <td>14.4542</td>\n",
       "      <td>NaN</td>\n",
       "      <td>C</td>\n",
       "      <td>NaN</td>\n",
       "      <td>NaN</td>\n",
       "      <td>NaN</td>\n",
       "    </tr>\n",
       "    <tr>\n",
       "      <td>1306</td>\n",
       "      <td>3.0</td>\n",
       "      <td>0.0</td>\n",
       "      <td>Zakarian, Mr. Mapriededer</td>\n",
       "      <td>male</td>\n",
       "      <td>26.5000</td>\n",
       "      <td>0.0</td>\n",
       "      <td>0.0</td>\n",
       "      <td>2656</td>\n",
       "      <td>7.2250</td>\n",
       "      <td>NaN</td>\n",
       "      <td>C</td>\n",
       "      <td>NaN</td>\n",
       "      <td>304.0</td>\n",
       "      <td>NaN</td>\n",
       "    </tr>\n",
       "    <tr>\n",
       "      <td>1307</td>\n",
       "      <td>3.0</td>\n",
       "      <td>0.0</td>\n",
       "      <td>Zakarian, Mr. Ortin</td>\n",
       "      <td>male</td>\n",
       "      <td>27.0000</td>\n",
       "      <td>0.0</td>\n",
       "      <td>0.0</td>\n",
       "      <td>2670</td>\n",
       "      <td>7.2250</td>\n",
       "      <td>NaN</td>\n",
       "      <td>C</td>\n",
       "      <td>NaN</td>\n",
       "      <td>NaN</td>\n",
       "      <td>NaN</td>\n",
       "    </tr>\n",
       "    <tr>\n",
       "      <td>1308</td>\n",
       "      <td>3.0</td>\n",
       "      <td>0.0</td>\n",
       "      <td>Zimmerman, Mr. Leo</td>\n",
       "      <td>male</td>\n",
       "      <td>29.0000</td>\n",
       "      <td>0.0</td>\n",
       "      <td>0.0</td>\n",
       "      <td>315082</td>\n",
       "      <td>7.8750</td>\n",
       "      <td>NaN</td>\n",
       "      <td>S</td>\n",
       "      <td>NaN</td>\n",
       "      <td>NaN</td>\n",
       "      <td>NaN</td>\n",
       "    </tr>\n",
       "    <tr>\n",
       "      <td>1309</td>\n",
       "      <td>NaN</td>\n",
       "      <td>NaN</td>\n",
       "      <td>NaN</td>\n",
       "      <td>NaN</td>\n",
       "      <td>NaN</td>\n",
       "      <td>NaN</td>\n",
       "      <td>NaN</td>\n",
       "      <td>NaN</td>\n",
       "      <td>NaN</td>\n",
       "      <td>NaN</td>\n",
       "      <td>NaN</td>\n",
       "      <td>NaN</td>\n",
       "      <td>NaN</td>\n",
       "      <td>NaN</td>\n",
       "    </tr>\n",
       "  </tbody>\n",
       "</table>\n",
       "<p>1310 rows × 14 columns</p>\n",
       "</div>"
      ],
      "text/plain": [
       "      pclass  survived                                             name  \\\n",
       "0        1.0       1.0                    Allen, Miss. Elisabeth Walton   \n",
       "1        1.0       1.0                   Allison, Master. Hudson Trevor   \n",
       "2        1.0       0.0                     Allison, Miss. Helen Loraine   \n",
       "3        1.0       0.0             Allison, Mr. Hudson Joshua Creighton   \n",
       "4        1.0       0.0  Allison, Mrs. Hudson J C (Bessie Waldo Daniels)   \n",
       "...      ...       ...                                              ...   \n",
       "1305     3.0       0.0                            Zabour, Miss. Thamine   \n",
       "1306     3.0       0.0                        Zakarian, Mr. Mapriededer   \n",
       "1307     3.0       0.0                              Zakarian, Mr. Ortin   \n",
       "1308     3.0       0.0                               Zimmerman, Mr. Leo   \n",
       "1309     NaN       NaN                                              NaN   \n",
       "\n",
       "         sex      age  sibsp  parch  ticket      fare    cabin embarked boat  \\\n",
       "0     female  29.0000    0.0    0.0   24160  211.3375       B5        S    2   \n",
       "1       male   0.9167    1.0    2.0  113781  151.5500  C22 C26        S   11   \n",
       "2     female   2.0000    1.0    2.0  113781  151.5500  C22 C26        S  NaN   \n",
       "3       male  30.0000    1.0    2.0  113781  151.5500  C22 C26        S  NaN   \n",
       "4     female  25.0000    1.0    2.0  113781  151.5500  C22 C26        S  NaN   \n",
       "...      ...      ...    ...    ...     ...       ...      ...      ...  ...   \n",
       "1305  female      NaN    1.0    0.0    2665   14.4542      NaN        C  NaN   \n",
       "1306    male  26.5000    0.0    0.0    2656    7.2250      NaN        C  NaN   \n",
       "1307    male  27.0000    0.0    0.0    2670    7.2250      NaN        C  NaN   \n",
       "1308    male  29.0000    0.0    0.0  315082    7.8750      NaN        S  NaN   \n",
       "1309     NaN      NaN    NaN    NaN     NaN       NaN      NaN      NaN  NaN   \n",
       "\n",
       "       body                        home.dest  \n",
       "0       NaN                     St Louis, MO  \n",
       "1       NaN  Montreal, PQ / Chesterville, ON  \n",
       "2       NaN  Montreal, PQ / Chesterville, ON  \n",
       "3     135.0  Montreal, PQ / Chesterville, ON  \n",
       "4       NaN  Montreal, PQ / Chesterville, ON  \n",
       "...     ...                              ...  \n",
       "1305    NaN                              NaN  \n",
       "1306  304.0                              NaN  \n",
       "1307    NaN                              NaN  \n",
       "1308    NaN                              NaN  \n",
       "1309    NaN                              NaN  \n",
       "\n",
       "[1310 rows x 14 columns]"
      ]
     },
     "execution_count": 16,
     "metadata": {},
     "output_type": "execute_result"
    }
   ],
   "source": [
    "import pandas as pd\n",
    "data=pd.read_csv('Dataset/PredA/Chapter 2/titanic3.csv')\n",
    "\n",
    "# pd.read_csv(filepath, sep=', ', dtype=None  ex..{'a':np.float64, 'b'.np.int32}, header= 0 or None,\n",
    "# skiprows=None, index_col=None, skip_blank_lines=TRUE, na_filter=TRUE)\n",
    "\n",
    "data"
   ]
  },
  {
   "cell_type": "code",
   "execution_count": 5,
   "metadata": {},
   "outputs": [
    {
     "data": {
      "text/plain": [
       "Index(['pclass', 'survived', 'name', 'sex', 'age', 'sibsp', 'parch', 'ticket',\n",
       "       'fare', 'cabin', 'embarked', 'boat', 'body', 'home.dest'],\n",
       "      dtype='object')"
      ]
     },
     "execution_count": 5,
     "metadata": {},
     "output_type": "execute_result"
    }
   ],
   "source": [
    "data.columns\n",
    "# data.columns.values  returns array...."
   ]
  },
  {
   "cell_type": "markdown",
   "metadata": {},
   "source": [
    "#### For large Datasets,  to read line by line and optimize memory..."
   ]
  },
  {
   "cell_type": "code",
   "execution_count": 32,
   "metadata": {},
   "outputs": [
    {
     "data": {
      "text/plain": [
       "Index(['State', 'Account Length', 'Area Code', 'Phone', 'Int'l Plan',\n",
       "       'VMail Plan', 'VMail Message', 'Day Mins', 'Day Calls', 'Day Charge',\n",
       "       'Eve Mins', 'Eve Calls', 'Eve Charge', 'Night Mins', 'Night Calls',\n",
       "       'Night Charge', 'Intl Mins', 'Intl Calls', 'Intl Charge',\n",
       "       'CustServ Calls', 'Churn?'],\n",
       "      dtype='object')"
      ]
     },
     "execution_count": 32,
     "metadata": {},
     "output_type": "execute_result"
    }
   ],
   "source": [
    "data1 = pd.read_csv('Dataset/PredA/Chapter 2/Customer Churn Model.txt') #reading txt\n",
    "\n",
    "# data1 = open('Dataset/PredA/Chapter 2/Customer Churn Model.txt', 'r')\n",
    "\n",
    "# cols = data1.next().strip().split(',')\n",
    "# no_cols=len(data1.next().strip().split(','))\n",
    "data1.columns"
   ]
  },
  {
   "cell_type": "code",
   "execution_count": null,
   "metadata": {},
   "outputs": [],
   "source": [
    "counter=0\n",
    "main_dict={}\n",
    "for col in cols:\n",
    "    main_dict[col]=[]\n",
    "\n",
    "for line in data:\n",
    "    values = line.strip().split(',')\n",
    "    for i in range(len(cols)):\n",
    "        main_dict[cols[i]].append(values[i])\n",
    "    counter += 1\n",
    "    \n",
    "print(\"The dataset has %d rows and %d columns\" % (counter,no_cols))"
   ]
  },
  {
   "cell_type": "code",
   "execution_count": null,
   "metadata": {},
   "outputs": [],
   "source": [
    "import pandas as pd\n",
    "df=pd.DataFrame(main_dict)\n",
    "print df.head(5)"
   ]
  },
  {
   "cell_type": "markdown",
   "metadata": {},
   "source": [
    "#### Delimited write file"
   ]
  },
  {
   "cell_type": "code",
   "execution_count": 8,
   "metadata": {},
   "outputs": [],
   "source": [
    "infile='Dataset/PredA/Chapter 2/Customer Churn Model.txt'\n",
    "outfile='Dataset/PredA/Chapter 2/Tab Customer Churn Model.txt'\n",
    "with open(infile) as infile1:\n",
    "    with open(outfile,'w') as outfile1:\n",
    "        for line in infile1:\n",
    "            fields=line.split(',')\n",
    "            outfile1.write('/t'.join(fields))"
   ]
  },
  {
   "cell_type": "markdown",
   "metadata": {},
   "source": [
    "#### Read file from URL"
   ]
  },
  {
   "cell_type": "code",
   "execution_count": 10,
   "metadata": {
    "scrolled": false
   },
   "outputs": [
    {
     "data": {
      "text/html": [
       "<div>\n",
       "<style scoped>\n",
       "    .dataframe tbody tr th:only-of-type {\n",
       "        vertical-align: middle;\n",
       "    }\n",
       "\n",
       "    .dataframe tbody tr th {\n",
       "        vertical-align: top;\n",
       "    }\n",
       "\n",
       "    .dataframe thead th {\n",
       "        text-align: right;\n",
       "    }\n",
       "</style>\n",
       "<table border=\"1\" class=\"dataframe\">\n",
       "  <thead>\n",
       "    <tr style=\"text-align: right;\">\n",
       "      <th></th>\n",
       "      <th>Year</th>\n",
       "      <th>City</th>\n",
       "      <th>Sport</th>\n",
       "      <th>Discipline</th>\n",
       "      <th>NOC</th>\n",
       "      <th>Event</th>\n",
       "      <th>Event gender</th>\n",
       "      <th>Medal</th>\n",
       "    </tr>\n",
       "  </thead>\n",
       "  <tbody>\n",
       "    <tr>\n",
       "      <td>0</td>\n",
       "      <td>1924</td>\n",
       "      <td>Chamonix</td>\n",
       "      <td>Skating</td>\n",
       "      <td>Figure skating</td>\n",
       "      <td>AUT</td>\n",
       "      <td>individual</td>\n",
       "      <td>M</td>\n",
       "      <td>Silver</td>\n",
       "    </tr>\n",
       "    <tr>\n",
       "      <td>1</td>\n",
       "      <td>1924</td>\n",
       "      <td>Chamonix</td>\n",
       "      <td>Skating</td>\n",
       "      <td>Figure skating</td>\n",
       "      <td>AUT</td>\n",
       "      <td>individual</td>\n",
       "      <td>W</td>\n",
       "      <td>Gold</td>\n",
       "    </tr>\n",
       "    <tr>\n",
       "      <td>2</td>\n",
       "      <td>1924</td>\n",
       "      <td>Chamonix</td>\n",
       "      <td>Skating</td>\n",
       "      <td>Figure skating</td>\n",
       "      <td>AUT</td>\n",
       "      <td>pairs</td>\n",
       "      <td>X</td>\n",
       "      <td>Gold</td>\n",
       "    </tr>\n",
       "    <tr>\n",
       "      <td>3</td>\n",
       "      <td>1924</td>\n",
       "      <td>Chamonix</td>\n",
       "      <td>Bobsleigh</td>\n",
       "      <td>Bobsleigh</td>\n",
       "      <td>BEL</td>\n",
       "      <td>four-man</td>\n",
       "      <td>M</td>\n",
       "      <td>Bronze</td>\n",
       "    </tr>\n",
       "    <tr>\n",
       "      <td>4</td>\n",
       "      <td>1924</td>\n",
       "      <td>Chamonix</td>\n",
       "      <td>Ice Hockey</td>\n",
       "      <td>Ice Hockey</td>\n",
       "      <td>CAN</td>\n",
       "      <td>ice hockey</td>\n",
       "      <td>M</td>\n",
       "      <td>Gold</td>\n",
       "    </tr>\n",
       "  </tbody>\n",
       "</table>\n",
       "</div>"
      ],
      "text/plain": [
       "   Year      City       Sport      Discipline  NOC       Event Event gender  \\\n",
       "0  1924  Chamonix     Skating  Figure skating  AUT  individual            M   \n",
       "1  1924  Chamonix     Skating  Figure skating  AUT  individual            W   \n",
       "2  1924  Chamonix     Skating  Figure skating  AUT       pairs            X   \n",
       "3  1924  Chamonix   Bobsleigh       Bobsleigh  BEL    four-man            M   \n",
       "4  1924  Chamonix  Ice Hockey      Ice Hockey  CAN  ice hockey            M   \n",
       "\n",
       "    Medal  \n",
       "0  Silver  \n",
       "1    Gold  \n",
       "2    Gold  \n",
       "3  Bronze  \n",
       "4    Gold  "
      ]
     },
     "execution_count": 10,
     "metadata": {},
     "output_type": "execute_result"
    }
   ],
   "source": [
    "import pandas as pd\n",
    "medal_data=pd.read_csv('http://winterolympicsmedals.com/medals.csv')\n",
    "medal_data.head()"
   ]
  },
  {
   "cell_type": "code",
   "execution_count": 14,
   "metadata": {},
   "outputs": [
    {
     "name": "stdout",
     "output_type": "stream",
     "text": [
      "Collecting urllib2\n",
      "Note: you may need to restart the kernel to use updated packages.\n"
     ]
    },
    {
     "name": "stderr",
     "output_type": "stream",
     "text": [
      "  Could not find a version that satisfies the requirement urllib2 (from versions: )\n",
      "No matching distribution found for urllib2\n"
     ]
    }
   ],
   "source": [
    "pip install urllib2"
   ]
  },
  {
   "cell_type": "code",
   "execution_count": null,
   "metadata": {},
   "outputs": [],
   "source": [
    "import csv\n",
    "import urllib2\n",
    "url='http://archive.ics.uci.edu/ml/machine-learning-databases/iris/iris.data'\n",
    "response=urllib2.urlopen(url)\n",
    "cr=csv.reader(response)\n",
    "for rows in cr:\n",
    "    print(rows)"
   ]
  },
  {
   "cell_type": "code",
   "execution_count": null,
   "metadata": {},
   "outputs": [],
   "source": [
    "import pandas as pd\n",
    "data2=pd.read_excel('E:/Personal/Learning/Predictive Modeling Book/BookDatasets/titanic3.xls','titanic3') # pd.to_excel\n",
    "import pandas as pd\n",
    "data3=pd.read_excel('E:/Personal/Learning/Predictive Modeling Book/BookDatasets/titanic3.xlsx','titanic3') #second argument sheet name"
   ]
  },
  {
   "cell_type": "code",
   "execution_count": null,
   "metadata": {},
   "outputs": [],
   "source": [
    "df.notnull(df['col'])\n",
    "df.isnull('col').values.ravel().sum()"
   ]
  },
  {
   "cell_type": "code",
   "execution_count": null,
   "metadata": {},
   "outputs": [],
   "source": [
    "dummy_variable = pd.get_dummies(df['col'], prefix='var')\n",
    "column_name=data.columns.values.tolist()\n",
    "column_name.remove('sex')\n",
    "data[column_name].join(dummy_sex)"
   ]
  },
  {
   "cell_type": "code",
   "execution_count": null,
   "metadata": {},
   "outputs": [],
   "source": [
    "figure.savefig('E:/Personal/Learning/Predictive Modeling Book/Book\n",
    "Datasets/Scatter Plots.jpeg')"
   ]
  },
  {
   "cell_type": "code",
   "execution_count": 29,
   "metadata": {},
   "outputs": [
    {
     "data": {
      "image/png": "[encoded data removed]",
      "text/plain": [
       "<Figure size 432x288 with 1 Axes>"
      ]
     },
     "metadata": {
      "needs_background": "light"
     },
     "output_type": "display_data"
    }
   ],
   "source": [
    "from matplotlib import pyplot as plt\n",
    "x=data1['Day Mins']\n",
    "y=data1['Day Charge']\n",
    "plt.scatter(x,y, color='red')\n",
    "plt.show()"
   ]
  },
  {
   "cell_type": "code",
   "execution_count": 30,
   "metadata": {},
   "outputs": [
    {
     "data": {
      "text/plain": [
       "<matplotlib.axes._subplots.AxesSubplot at 0xd492d0bd30>"
      ]
     },
     "execution_count": 30,
     "metadata": {},
     "output_type": "execute_result"
    },
    {
     "data": {
      "image/png": "[encoded data removed]",
      "text/plain": [
       "<Figure size 432x288 with 4 Axes>"
      ]
     },
     "metadata": {
      "needs_background": "light"
     },
     "output_type": "display_data"
    }
   ],
   "source": [
    "import matplotlib.pyplot as plt\n",
    "figure,axs = plt.subplots(2, 2,sharey=True,sharex=True)\n",
    "data1.plot(kind='scatter',x='Day Mins',y='Day Charge',ax=axs[0][0])\n",
    "data1.plot(kind='scatter',x='Night Mins',y='Night Charge',ax=axs[0][1])\n",
    "data1.plot(kind='scatter',x='Day Calls',y='Day Charge',ax=axs[1][0])\n",
    "data1.plot(kind='scatter',x='Night Calls',y='Night Charge',ax=axs[1][1])"
   ]
  },
  {
   "cell_type": "code",
   "execution_count": 34,
   "metadata": {},
   "outputs": [
    {
     "data": {
      "text/plain": [
       "Text(0.5, 1.0, 'Frequency of Day Calls')"
      ]
     },
     "execution_count": 34,
     "metadata": {},
     "output_type": "execute_result"
    },
    {
     "data": {
      "image/png": "[encoded data removed]",
      "text/plain": [
       "<Figure size 432x288 with 1 Axes>"
      ]
     },
     "metadata": {
      "needs_background": "light"
     },
     "output_type": "display_data"
    }
   ],
   "source": [
    "import matplotlib.pyplot as plt\n",
    "plt.hist(data1['Day Calls'],bins=8)\n",
    "plt.xlabel('Day Calls Value')\n",
    "plt.ylabel('Frequency')\n",
    "plt.title('Frequency of Day Calls')"
   ]
  },
  {
   "cell_type": "code",
   "execution_count": null,
   "metadata": {},
   "outputs": [],
   "source": [
    "a=range(100)\n",
    "np.random.shuffle(a)\n",
    "\n",
    "np.random.seed(1)  #retain random numbers generated\n",
    "for i in range(5):\n",
    "print np.random.random()\n",
    "\n"
   ]
  },
  {
   "cell_type": "code",
   "execution_count": 1,
   "metadata": {},
   "outputs": [
    {
     "data": {
      "text/plain": [
       "(array([ 7.,  7., 10., 11., 10.,  7., 15., 11.,  9., 13.]),\n",
       " array([ 1.22225095, 11.01345056, 20.80465018, 30.5958498 , 40.38704941,\n",
       "        50.17824903, 59.96944865, 69.76064826, 79.55184788, 89.34304749,\n",
       "        99.13424711]),\n",
       " <a list of 10 Patch objects>)"
      ]
     },
     "execution_count": 1,
     "metadata": {},
     "output_type": "execute_result"
    },
    {
     "data": {
      "image/png": "[encoded data removed]",
      "text/plain": [
       "<Figure size 432x288 with 1 Axes>"
      ]
     },
     "metadata": {
      "needs_background": "light"
     },
     "output_type": "display_data"
    }
   ],
   "source": [
    "import numpy as np\n",
    "import matplotlib.pyplot as plt\n",
    "%matplotlib inline\n",
    "a=np.random.uniform(1,100,100)\n",
    "b=range(1,101)\n",
    "plt.hist(a)"
   ]
  },
  {
   "cell_type": "code",
   "execution_count": 9,
   "metadata": {},
   "outputs": [
    {
     "data": {
      "text/plain": [
       "(array([ 7.,  8., 12., 12.,  8., 13.,  9.,  9., 10., 12.]),\n",
       " array([8.52223318e+02, 1.00078708e+05, 1.99305194e+05, 2.98531679e+05,\n",
       "        3.97758164e+05, 4.96984649e+05, 5.96211134e+05, 6.95437619e+05,\n",
       "        7.94664104e+05, 8.93890589e+05, 9.93117074e+05]),\n",
       " <a list of 10 Patch objects>)"
      ]
     },
     "execution_count": 9,
     "metadata": {},
     "output_type": "execute_result"
    },
    {
     "data": {
      "image/png": "[encoded data removed]",
      "text/plain": [
       "<Figure size 432x288 with 1 Axes>"
      ]
     },
     "metadata": {
      "needs_background": "light"
     },
     "output_type": "display_data"
    }
   ],
   "source": [
    "import numpy as np\n",
    "import matplotlib.pyplot as plt\n",
    "%matplotlib inline\n",
    "a=np.random.uniform(1,1000000,100)\n",
    "b=range(1,101)\n",
    "plt.hist(a)"
   ]
  },
  {
   "cell_type": "code",
   "execution_count": 10,
   "metadata": {},
   "outputs": [
    {
     "data": {
      "text/plain": [
       "[<matplotlib.lines.Line2D at 0x4cae37a9b0>]"
      ]
     },
     "execution_count": 10,
     "metadata": {},
     "output_type": "execute_result"
    },
    {
     "data": {
      "image/png": "[encoded data removed]",
      "text/plain": [
       "<Figure size 432x288 with 1 Axes>"
      ]
     },
     "metadata": {
      "needs_background": "light"
     },
     "output_type": "display_data"
    }
   ],
   "source": [
    "import numpy as np\n",
    "import matplotlib.pyplot as plt\n",
    "%matplotlib inline\n",
    "a=np.random.randn(100)\n",
    "b=range(1,101)\n",
    "plt.plot(b,a)"
   ]
  },
  {
   "cell_type": "code",
   "execution_count": null,
   "metadata": {},
   "outputs": [],
   "source": [
    "import numpy as np\n",
    "a=2.5*np.random.randn(100)+1.5 # 2.5==SD 1.5==Mean"
   ]
  },
  {
   "cell_type": "code",
   "execution_count": 11,
   "metadata": {},
   "outputs": [
    {
     "data": {
      "text/plain": [
       "(array([1.7000e+01, 4.5700e+02, 4.1640e+03, 1.6979e+04, 3.3406e+04,\n",
       "        2.9995e+04, 1.2399e+04, 2.3860e+03, 1.8800e+02, 9.0000e+00]),\n",
       " array([-4.42473661, -3.51449287, -2.60424913, -1.69400538, -0.78376164,\n",
       "         0.1264821 ,  1.03672584,  1.94696959,  2.85721333,  3.76745707,\n",
       "         4.67770082]),\n",
       " <a list of 10 Patch objects>)"
      ]
     },
     "execution_count": 11,
     "metadata": {},
     "output_type": "execute_result"
    },
    {
     "data": {
      "image/png": "[encoded data removed]",
      "text/plain": [
       "<Figure size 432x288 with 1 Axes>"
      ]
     },
     "metadata": {
      "needs_background": "light"
     },
     "output_type": "display_data"
    }
   ],
   "source": [
    "import numpy as np\n",
    "import matplotlib.pyplot as plt\n",
    "%matplotlib inline\n",
    "a=np.random.randn(100000)\n",
    "b=range(1,101)\n",
    "plt.hist(a)                       #Normal distribution"
   ]
  },
  {
   "cell_type": "code",
   "execution_count": 24,
   "metadata": {},
   "outputs": [
    {
     "data": {
      "text/html": [
       "<div>\n",
       "<style scoped>\n",
       "    .dataframe tbody tr th:only-of-type {\n",
       "        vertical-align: middle;\n",
       "    }\n",
       "\n",
       "    .dataframe tbody tr th {\n",
       "        vertical-align: top;\n",
       "    }\n",
       "\n",
       "    .dataframe thead th {\n",
       "        text-align: right;\n",
       "    }\n",
       "</style>\n",
       "<table border=\"1\" class=\"dataframe\">\n",
       "  <thead>\n",
       "    <tr style=\"text-align: right;\">\n",
       "      <th></th>\n",
       "      <th>Column_Name</th>\n",
       "      <th>A</th>\n",
       "      <th>B</th>\n",
       "    </tr>\n",
       "  </thead>\n",
       "  <tbody>\n",
       "    <tr>\n",
       "      <td>0</td>\n",
       "      <td>State</td>\n",
       "      <td>2.743563</td>\n",
       "      <td>2.017895</td>\n",
       "    </tr>\n",
       "    <tr>\n",
       "      <td>1</td>\n",
       "      <td>Account Length</td>\n",
       "      <td>-0.590495</td>\n",
       "      <td>1.264223</td>\n",
       "    </tr>\n",
       "    <tr>\n",
       "      <td>2</td>\n",
       "      <td>Area Code</td>\n",
       "      <td>0.823330</td>\n",
       "      <td>3.203544</td>\n",
       "    </tr>\n",
       "    <tr>\n",
       "      <td>3</td>\n",
       "      <td>Phone</td>\n",
       "      <td>-0.514826</td>\n",
       "      <td>2.284432</td>\n",
       "    </tr>\n",
       "    <tr>\n",
       "      <td>4</td>\n",
       "      <td>Int'l Plan</td>\n",
       "      <td>-0.662780</td>\n",
       "      <td>2.561354</td>\n",
       "    </tr>\n",
       "    <tr>\n",
       "      <td>5</td>\n",
       "      <td>VMail Plan</td>\n",
       "      <td>-0.391509</td>\n",
       "      <td>4.444218</td>\n",
       "    </tr>\n",
       "    <tr>\n",
       "      <td>6</td>\n",
       "      <td>VMail Message</td>\n",
       "      <td>-1.200357</td>\n",
       "      <td>-0.775818</td>\n",
       "    </tr>\n",
       "    <tr>\n",
       "      <td>7</td>\n",
       "      <td>Day Mins</td>\n",
       "      <td>1.920250</td>\n",
       "      <td>3.077622</td>\n",
       "    </tr>\n",
       "    <tr>\n",
       "      <td>8</td>\n",
       "      <td>Day Calls</td>\n",
       "      <td>-0.881225</td>\n",
       "      <td>0.787270</td>\n",
       "    </tr>\n",
       "    <tr>\n",
       "      <td>9</td>\n",
       "      <td>Day Charge</td>\n",
       "      <td>1.147071</td>\n",
       "      <td>-1.048356</td>\n",
       "    </tr>\n",
       "    <tr>\n",
       "      <td>10</td>\n",
       "      <td>Eve Mins</td>\n",
       "      <td>-0.462613</td>\n",
       "      <td>3.795792</td>\n",
       "    </tr>\n",
       "    <tr>\n",
       "      <td>11</td>\n",
       "      <td>Eve Calls</td>\n",
       "      <td>2.494516</td>\n",
       "      <td>3.441834</td>\n",
       "    </tr>\n",
       "    <tr>\n",
       "      <td>12</td>\n",
       "      <td>Eve Charge</td>\n",
       "      <td>0.860328</td>\n",
       "      <td>-1.323516</td>\n",
       "    </tr>\n",
       "    <tr>\n",
       "      <td>13</td>\n",
       "      <td>Night Mins</td>\n",
       "      <td>0.903087</td>\n",
       "      <td>5.476508</td>\n",
       "    </tr>\n",
       "    <tr>\n",
       "      <td>14</td>\n",
       "      <td>Night Calls</td>\n",
       "      <td>-0.540679</td>\n",
       "      <td>2.261040</td>\n",
       "    </tr>\n",
       "    <tr>\n",
       "      <td>15</td>\n",
       "      <td>Night Charge</td>\n",
       "      <td>0.722861</td>\n",
       "      <td>-1.353176</td>\n",
       "    </tr>\n",
       "    <tr>\n",
       "      <td>16</td>\n",
       "      <td>Intl Mins</td>\n",
       "      <td>0.252449</td>\n",
       "      <td>-2.890397</td>\n",
       "    </tr>\n",
       "    <tr>\n",
       "      <td>17</td>\n",
       "      <td>Intl Calls</td>\n",
       "      <td>-1.202945</td>\n",
       "      <td>0.905872</td>\n",
       "    </tr>\n",
       "    <tr>\n",
       "      <td>18</td>\n",
       "      <td>Intl Charge</td>\n",
       "      <td>0.351002</td>\n",
       "      <td>3.237247</td>\n",
       "    </tr>\n",
       "    <tr>\n",
       "      <td>19</td>\n",
       "      <td>CustServ Calls</td>\n",
       "      <td>-1.805324</td>\n",
       "      <td>-0.440481</td>\n",
       "    </tr>\n",
       "    <tr>\n",
       "      <td>20</td>\n",
       "      <td>Churn?</td>\n",
       "      <td>-0.036691</td>\n",
       "      <td>3.395564</td>\n",
       "    </tr>\n",
       "  </tbody>\n",
       "</table>\n",
       "</div>"
      ],
      "text/plain": [
       "       Column_Name         A         B\n",
       "0            State  2.743563  2.017895\n",
       "1   Account Length -0.590495  1.264223\n",
       "2        Area Code  0.823330  3.203544\n",
       "3            Phone -0.514826  2.284432\n",
       "4       Int'l Plan -0.662780  2.561354\n",
       "5       VMail Plan -0.391509  4.444218\n",
       "6    VMail Message -1.200357 -0.775818\n",
       "7         Day Mins  1.920250  3.077622\n",
       "8        Day Calls -0.881225  0.787270\n",
       "9       Day Charge  1.147071 -1.048356\n",
       "10        Eve Mins -0.462613  3.795792\n",
       "11       Eve Calls  2.494516  3.441834\n",
       "12      Eve Charge  0.860328 -1.323516\n",
       "13      Night Mins  0.903087  5.476508\n",
       "14     Night Calls -0.540679  2.261040\n",
       "15    Night Charge  0.722861 -1.353176\n",
       "16       Intl Mins  0.252449 -2.890397\n",
       "17      Intl Calls -1.202945  0.905872\n",
       "18     Intl Charge  0.351002  3.237247\n",
       "19  CustServ Calls -1.805324 -0.440481\n",
       "20          Churn? -0.036691  3.395564"
      ]
     },
     "execution_count": 24,
     "metadata": {},
     "output_type": "execute_result"
    }
   ],
   "source": [
    "import pandas as pd\n",
    "data = pd.read_csv('Dataset/PredA/Chapter 2/Customer Churn Model.txt')\n",
    "column_list=data.columns.values.tolist()\n",
    "a=len(column_list)\n",
    "d=pd.DataFrame({'Column_Name':column_list,'A':np.random.randn(a),'B':2.5*np.random.randn(a)+1.5})\n",
    "d"
   ]
  },
  {
   "cell_type": "code",
   "execution_count": 26,
   "metadata": {},
   "outputs": [
    {
     "data": {
      "text/html": [
       "<div>\n",
       "<style scoped>\n",
       "    .dataframe tbody tr th:only-of-type {\n",
       "        vertical-align: middle;\n",
       "    }\n",
       "\n",
       "    .dataframe tbody tr th {\n",
       "        vertical-align: top;\n",
       "    }\n",
       "\n",
       "    .dataframe thead th {\n",
       "        text-align: right;\n",
       "    }\n",
       "</style>\n",
       "<table border=\"1\" class=\"dataframe\">\n",
       "  <thead>\n",
       "    <tr style=\"text-align: right;\">\n",
       "      <th></th>\n",
       "      <th>Gender</th>\n",
       "      <th>Height</th>\n",
       "      <th>Weight</th>\n",
       "      <th>Age</th>\n",
       "      <th>Income</th>\n",
       "      <th>Socio-Eco</th>\n",
       "    </tr>\n",
       "  </thead>\n",
       "  <tbody>\n",
       "    <tr>\n",
       "      <td>0</td>\n",
       "      <td>Female</td>\n",
       "      <td>124.180149</td>\n",
       "      <td>71.844102</td>\n",
       "      <td>29.899476</td>\n",
       "      <td>17215.922534</td>\n",
       "      <td>Rich</td>\n",
       "    </tr>\n",
       "    <tr>\n",
       "      <td>1</td>\n",
       "      <td>Male</td>\n",
       "      <td>131.656223</td>\n",
       "      <td>58.376976</td>\n",
       "      <td>32.997144</td>\n",
       "      <td>14557.680304</td>\n",
       "      <td>Poor</td>\n",
       "    </tr>\n",
       "    <tr>\n",
       "      <td>2</td>\n",
       "      <td>Male</td>\n",
       "      <td>91.514607</td>\n",
       "      <td>35.717687</td>\n",
       "      <td>39.065905</td>\n",
       "      <td>14159.283187</td>\n",
       "      <td>Middle Class</td>\n",
       "    </tr>\n",
       "    <tr>\n",
       "      <td>3</td>\n",
       "      <td>Male</td>\n",
       "      <td>157.663800</td>\n",
       "      <td>59.508021</td>\n",
       "      <td>34.345424</td>\n",
       "      <td>16744.351536</td>\n",
       "      <td>Middle Class</td>\n",
       "    </tr>\n",
       "    <tr>\n",
       "      <td>4</td>\n",
       "      <td>Female</td>\n",
       "      <td>216.376034</td>\n",
       "      <td>47.553285</td>\n",
       "      <td>47.241235</td>\n",
       "      <td>14689.993167</td>\n",
       "      <td>Rich</td>\n",
       "    </tr>\n",
       "  </tbody>\n",
       "</table>\n",
       "</div>"
      ],
      "text/plain": [
       "   Gender      Height     Weight        Age        Income     Socio-Eco\n",
       "0  Female  124.180149  71.844102  29.899476  17215.922534          Rich\n",
       "1    Male  131.656223  58.376976  32.997144  14557.680304          Poor\n",
       "2    Male   91.514607  35.717687  39.065905  14159.283187  Middle Class\n",
       "3    Male  157.663800  59.508021  34.345424  16744.351536  Middle Class\n",
       "4  Female  216.376034  47.553285  47.241235  14689.993167          Rich"
      ]
     },
     "execution_count": 26,
     "metadata": {},
     "output_type": "execute_result"
    }
   ],
   "source": [
    "import numpy as np\n",
    "import pandas as pd\n",
    "a=['Male','Female']\n",
    "b=['Rich','Poor','Middle Class']\n",
    "gender=[]\n",
    "seb=[]\n",
    "for i in range(1,101):\n",
    "    gender.append(np.random.choice(a))\n",
    "    seb.append(np.random.choice(b))\n",
    "    height=30*np.random.randn(100)+155\n",
    "    weight=20*np.random.randn(100)+60\n",
    "    age=10*np.random.randn(100)+35\n",
    "    income=1500*np.random.randn(100)+15000\n",
    "    \n",
    "df=pd.DataFrame({'Gender':gender,'Height':height,'Weight':weight,'Age'\n",
    ":age,'Income':income,'Socio-Eco':seb})\n",
    "df.head()"
   ]
  },
  {
   "cell_type": "code",
   "execution_count": 28,
   "metadata": {},
   "outputs": [
    {
     "data": {
      "text/plain": [
       "{'Female': Int64Index([ 0,  4,  7, 10, 11, 16, 19, 20, 22, 23, 24, 25, 27, 30, 33, 35, 39,\n",
       "             40, 42, 43, 44, 46, 47, 48, 49, 51, 52, 53, 54, 55, 57, 59, 62, 63,\n",
       "             66, 69, 70, 71, 72, 74, 76, 77, 79, 80, 81, 82, 84, 85, 88, 89, 90,\n",
       "             92, 93, 94, 96],\n",
       "            dtype='int64'),\n",
       " 'Male': Int64Index([ 1,  2,  3,  5,  6,  8,  9, 12, 13, 14, 15, 17, 18, 21, 26, 28, 29,\n",
       "             31, 32, 34, 36, 37, 38, 41, 45, 50, 56, 58, 60, 61, 64, 65, 67, 68,\n",
       "             73, 75, 78, 83, 86, 87, 91, 95, 97, 98, 99],\n",
       "            dtype='int64')}"
      ]
     },
     "execution_count": 28,
     "metadata": {},
     "output_type": "execute_result"
    }
   ],
   "source": [
    "grouped = df.groupby('Gender')\n",
    "grouped.groups"
   ]
  },
  {
   "cell_type": "code",
   "execution_count": 31,
   "metadata": {},
   "outputs": [
    {
     "data": {
      "text/html": [
       "<div>\n",
       "<style scoped>\n",
       "    .dataframe tbody tr th:only-of-type {\n",
       "        vertical-align: middle;\n",
       "    }\n",
       "\n",
       "    .dataframe tbody tr th {\n",
       "        vertical-align: top;\n",
       "    }\n",
       "\n",
       "    .dataframe thead th {\n",
       "        text-align: right;\n",
       "    }\n",
       "</style>\n",
       "<table border=\"1\" class=\"dataframe\">\n",
       "  <thead>\n",
       "    <tr style=\"text-align: right;\">\n",
       "      <th></th>\n",
       "      <th>Gender</th>\n",
       "      <th>Height</th>\n",
       "      <th>Weight</th>\n",
       "      <th>Age</th>\n",
       "      <th>Income</th>\n",
       "      <th>Socio-Eco</th>\n",
       "    </tr>\n",
       "  </thead>\n",
       "  <tbody>\n",
       "    <tr>\n",
       "      <td>0</td>\n",
       "      <td>Female</td>\n",
       "      <td>124.180149</td>\n",
       "      <td>71.844102</td>\n",
       "      <td>29.899476</td>\n",
       "      <td>17215.922534</td>\n",
       "      <td>Rich</td>\n",
       "    </tr>\n",
       "    <tr>\n",
       "      <td>4</td>\n",
       "      <td>Female</td>\n",
       "      <td>216.376034</td>\n",
       "      <td>47.553285</td>\n",
       "      <td>47.241235</td>\n",
       "      <td>14689.993167</td>\n",
       "      <td>Rich</td>\n",
       "    </tr>\n",
       "    <tr>\n",
       "      <td>7</td>\n",
       "      <td>Female</td>\n",
       "      <td>158.815486</td>\n",
       "      <td>53.288028</td>\n",
       "      <td>42.652692</td>\n",
       "      <td>15170.554558</td>\n",
       "      <td>Rich</td>\n",
       "    </tr>\n",
       "    <tr>\n",
       "      <td>10</td>\n",
       "      <td>Female</td>\n",
       "      <td>197.632873</td>\n",
       "      <td>51.867580</td>\n",
       "      <td>25.268487</td>\n",
       "      <td>15455.338470</td>\n",
       "      <td>Middle Class</td>\n",
       "    </tr>\n",
       "    <tr>\n",
       "      <td>11</td>\n",
       "      <td>Female</td>\n",
       "      <td>116.704117</td>\n",
       "      <td>84.347152</td>\n",
       "      <td>29.105631</td>\n",
       "      <td>14409.586546</td>\n",
       "      <td>Poor</td>\n",
       "    </tr>\n",
       "  </tbody>\n",
       "</table>\n",
       "</div>"
      ],
      "text/plain": [
       "    Gender      Height     Weight        Age        Income     Socio-Eco\n",
       "0   Female  124.180149  71.844102  29.899476  17215.922534          Rich\n",
       "4   Female  216.376034  47.553285  47.241235  14689.993167          Rich\n",
       "7   Female  158.815486  53.288028  42.652692  15170.554558          Rich\n",
       "10  Female  197.632873  51.867580  25.268487  15455.338470  Middle Class\n",
       "11  Female  116.704117  84.347152  29.105631  14409.586546          Poor"
      ]
     },
     "execution_count": 31,
     "metadata": {},
     "output_type": "execute_result"
    }
   ],
   "source": [
    "grouped.get_group('Female').head()"
   ]
  },
  {
   "cell_type": "code",
   "execution_count": 33,
   "metadata": {},
   "outputs": [
    {
     "data": {
      "text/html": [
       "<div>\n",
       "<style scoped>\n",
       "    .dataframe tbody tr th:only-of-type {\n",
       "        vertical-align: middle;\n",
       "    }\n",
       "\n",
       "    .dataframe tbody tr th {\n",
       "        vertical-align: top;\n",
       "    }\n",
       "\n",
       "    .dataframe thead th {\n",
       "        text-align: right;\n",
       "    }\n",
       "</style>\n",
       "<table border=\"1\" class=\"dataframe\">\n",
       "  <thead>\n",
       "    <tr style=\"text-align: right;\">\n",
       "      <th></th>\n",
       "      <th></th>\n",
       "      <th>Age</th>\n",
       "      <th>Height</th>\n",
       "    </tr>\n",
       "    <tr>\n",
       "      <th>Gender</th>\n",
       "      <th>Socio-Eco</th>\n",
       "      <th></th>\n",
       "      <th></th>\n",
       "    </tr>\n",
       "  </thead>\n",
       "  <tbody>\n",
       "    <tr>\n",
       "      <td rowspan=\"3\" valign=\"top\">Female</td>\n",
       "      <td>Middle Class</td>\n",
       "      <td>31.010828</td>\n",
       "      <td>5.297972</td>\n",
       "    </tr>\n",
       "    <tr>\n",
       "      <td>Poor</td>\n",
       "      <td>34.790352</td>\n",
       "      <td>5.431615</td>\n",
       "    </tr>\n",
       "    <tr>\n",
       "      <td>Rich</td>\n",
       "      <td>34.725052</td>\n",
       "      <td>4.712897</td>\n",
       "    </tr>\n",
       "    <tr>\n",
       "      <td rowspan=\"3\" valign=\"top\">Male</td>\n",
       "      <td>Middle Class</td>\n",
       "      <td>34.528297</td>\n",
       "      <td>5.802278</td>\n",
       "    </tr>\n",
       "    <tr>\n",
       "      <td>Poor</td>\n",
       "      <td>38.367405</td>\n",
       "      <td>5.776698</td>\n",
       "    </tr>\n",
       "    <tr>\n",
       "      <td>Rich</td>\n",
       "      <td>38.446249</td>\n",
       "      <td>5.155665</td>\n",
       "    </tr>\n",
       "  </tbody>\n",
       "</table>\n",
       "</div>"
      ],
      "text/plain": [
       "                           Age    Height\n",
       "Gender Socio-Eco                        \n",
       "Female Middle Class  31.010828  5.297972\n",
       "       Poor          34.790352  5.431615\n",
       "       Rich          34.725052  4.712897\n",
       "Male   Middle Class  34.528297  5.802278\n",
       "       Poor          38.367405  5.776698\n",
       "       Rich          38.446249  5.155665"
      ]
     },
     "execution_count": 33,
     "metadata": {},
     "output_type": "execute_result"
    }
   ],
   "source": [
    "grouped=df.groupby(['Gender','Socio-Eco'])\n",
    "grouped.aggregate({'Age':np.mean,'Height':lambda x:np.mean(x)/\n",
    "np.std(x)})"
   ]
  },
  {
   "cell_type": "code",
   "execution_count": 35,
   "metadata": {},
   "outputs": [
    {
     "data": {
      "text/html": [
       "<div>\n",
       "<style scoped>\n",
       "    .dataframe tbody tr th:only-of-type {\n",
       "        vertical-align: middle;\n",
       "    }\n",
       "\n",
       "    .dataframe tbody tr th {\n",
       "        vertical-align: top;\n",
       "    }\n",
       "\n",
       "    .dataframe thead tr th {\n",
       "        text-align: left;\n",
       "    }\n",
       "\n",
       "    .dataframe thead tr:last-of-type th {\n",
       "        text-align: right;\n",
       "    }\n",
       "</style>\n",
       "<table border=\"1\" class=\"dataframe\">\n",
       "  <thead>\n",
       "    <tr>\n",
       "      <th></th>\n",
       "      <th></th>\n",
       "      <th colspan=\"3\" halign=\"left\">Height</th>\n",
       "      <th colspan=\"3\" halign=\"left\">Weight</th>\n",
       "      <th colspan=\"3\" halign=\"left\">Age</th>\n",
       "      <th colspan=\"3\" halign=\"left\">Income</th>\n",
       "    </tr>\n",
       "    <tr>\n",
       "      <th></th>\n",
       "      <th></th>\n",
       "      <th>sum</th>\n",
       "      <th>mean</th>\n",
       "      <th>std</th>\n",
       "      <th>sum</th>\n",
       "      <th>mean</th>\n",
       "      <th>std</th>\n",
       "      <th>sum</th>\n",
       "      <th>mean</th>\n",
       "      <th>std</th>\n",
       "      <th>sum</th>\n",
       "      <th>mean</th>\n",
       "      <th>std</th>\n",
       "    </tr>\n",
       "    <tr>\n",
       "      <th>Gender</th>\n",
       "      <th>Socio-Eco</th>\n",
       "      <th></th>\n",
       "      <th></th>\n",
       "      <th></th>\n",
       "      <th></th>\n",
       "      <th></th>\n",
       "      <th></th>\n",
       "      <th></th>\n",
       "      <th></th>\n",
       "      <th></th>\n",
       "      <th></th>\n",
       "      <th></th>\n",
       "      <th></th>\n",
       "    </tr>\n",
       "  </thead>\n",
       "  <tbody>\n",
       "    <tr>\n",
       "      <td rowspan=\"3\" valign=\"top\">Female</td>\n",
       "      <td>Middle Class</td>\n",
       "      <td>2545.079008</td>\n",
       "      <td>169.671934</td>\n",
       "      <td>33.149879</td>\n",
       "      <td>858.246566</td>\n",
       "      <td>57.216438</td>\n",
       "      <td>18.265994</td>\n",
       "      <td>465.162418</td>\n",
       "      <td>31.010828</td>\n",
       "      <td>11.305394</td>\n",
       "      <td>221252.933847</td>\n",
       "      <td>14750.195590</td>\n",
       "      <td>1109.855954</td>\n",
       "    </tr>\n",
       "    <tr>\n",
       "      <td>Poor</td>\n",
       "      <td>3174.111176</td>\n",
       "      <td>151.148151</td>\n",
       "      <td>28.514680</td>\n",
       "      <td>1327.337241</td>\n",
       "      <td>63.206535</td>\n",
       "      <td>17.239398</td>\n",
       "      <td>730.597398</td>\n",
       "      <td>34.790352</td>\n",
       "      <td>8.364400</td>\n",
       "      <td>307238.426473</td>\n",
       "      <td>14630.401261</td>\n",
       "      <td>1296.305899</td>\n",
       "    </tr>\n",
       "    <tr>\n",
       "      <td>Rich</td>\n",
       "      <td>2919.407554</td>\n",
       "      <td>153.653029</td>\n",
       "      <td>33.496057</td>\n",
       "      <td>982.474858</td>\n",
       "      <td>51.709203</td>\n",
       "      <td>18.958942</td>\n",
       "      <td>659.775992</td>\n",
       "      <td>34.725052</td>\n",
       "      <td>9.553926</td>\n",
       "      <td>286199.819791</td>\n",
       "      <td>15063.148410</td>\n",
       "      <td>1170.503058</td>\n",
       "    </tr>\n",
       "    <tr>\n",
       "      <td rowspan=\"3\" valign=\"top\">Male</td>\n",
       "      <td>Middle Class</td>\n",
       "      <td>2565.820877</td>\n",
       "      <td>142.545604</td>\n",
       "      <td>25.279417</td>\n",
       "      <td>1067.759609</td>\n",
       "      <td>59.319978</td>\n",
       "      <td>16.206802</td>\n",
       "      <td>621.509347</td>\n",
       "      <td>34.528297</td>\n",
       "      <td>8.556274</td>\n",
       "      <td>279773.462653</td>\n",
       "      <td>15542.970147</td>\n",
       "      <td>1661.026576</td>\n",
       "    </tr>\n",
       "    <tr>\n",
       "      <td>Poor</td>\n",
       "      <td>1879.793415</td>\n",
       "      <td>156.649451</td>\n",
       "      <td>28.323276</td>\n",
       "      <td>743.427639</td>\n",
       "      <td>61.952303</td>\n",
       "      <td>18.805149</td>\n",
       "      <td>460.408865</td>\n",
       "      <td>38.367405</td>\n",
       "      <td>10.338588</td>\n",
       "      <td>189272.423692</td>\n",
       "      <td>15772.701974</td>\n",
       "      <td>1338.589052</td>\n",
       "    </tr>\n",
       "    <tr>\n",
       "      <td>Rich</td>\n",
       "      <td>2419.753419</td>\n",
       "      <td>161.316895</td>\n",
       "      <td>32.387453</td>\n",
       "      <td>924.354523</td>\n",
       "      <td>61.623635</td>\n",
       "      <td>21.157530</td>\n",
       "      <td>576.693732</td>\n",
       "      <td>38.446249</td>\n",
       "      <td>8.351265</td>\n",
       "      <td>227653.024002</td>\n",
       "      <td>15176.868267</td>\n",
       "      <td>1841.937140</td>\n",
       "    </tr>\n",
       "  </tbody>\n",
       "</table>\n",
       "</div>"
      ],
      "text/plain": [
       "                          Height                              Weight  \\\n",
       "                             sum        mean        std          sum   \n",
       "Gender Socio-Eco                                                       \n",
       "Female Middle Class  2545.079008  169.671934  33.149879   858.246566   \n",
       "       Poor          3174.111176  151.148151  28.514680  1327.337241   \n",
       "       Rich          2919.407554  153.653029  33.496057   982.474858   \n",
       "Male   Middle Class  2565.820877  142.545604  25.279417  1067.759609   \n",
       "       Poor          1879.793415  156.649451  28.323276   743.427639   \n",
       "       Rich          2419.753419  161.316895  32.387453   924.354523   \n",
       "\n",
       "                                                  Age                        \\\n",
       "                          mean        std         sum       mean        std   \n",
       "Gender Socio-Eco                                                              \n",
       "Female Middle Class  57.216438  18.265994  465.162418  31.010828  11.305394   \n",
       "       Poor          63.206535  17.239398  730.597398  34.790352   8.364400   \n",
       "       Rich          51.709203  18.958942  659.775992  34.725052   9.553926   \n",
       "Male   Middle Class  59.319978  16.206802  621.509347  34.528297   8.556274   \n",
       "       Poor          61.952303  18.805149  460.408865  38.367405  10.338588   \n",
       "       Rich          61.623635  21.157530  576.693732  38.446249   8.351265   \n",
       "\n",
       "                            Income                             \n",
       "                               sum          mean          std  \n",
       "Gender Socio-Eco                                               \n",
       "Female Middle Class  221252.933847  14750.195590  1109.855954  \n",
       "       Poor          307238.426473  14630.401261  1296.305899  \n",
       "       Rich          286199.819791  15063.148410  1170.503058  \n",
       "Male   Middle Class  279773.462653  15542.970147  1661.026576  \n",
       "       Poor          189272.423692  15772.701974  1338.589052  \n",
       "       Rich          227653.024002  15176.868267  1841.937140  "
      ]
     },
     "execution_count": 35,
     "metadata": {},
     "output_type": "execute_result"
    }
   ],
   "source": [
    "grouped.aggregate([np.sum, np.mean, np.std])"
   ]
  },
  {
   "cell_type": "code",
   "execution_count": 37,
   "metadata": {},
   "outputs": [
    {
     "data": {
      "text/plain": [
       "11    29.105631\n",
       "20    43.832053\n",
       "22    35.428917\n",
       "24    28.972565\n",
       "35    33.079379\n",
       "40    41.356559\n",
       "44    37.775879\n",
       "47    35.073872\n",
       "48    38.825784\n",
       "49    46.852042\n",
       "51    38.674894\n",
       "57    44.214415\n",
       "59    22.018962\n",
       "69    44.632634\n",
       "72    29.580368\n",
       "74    22.513049\n",
       "76    25.189607\n",
       "77    40.350454\n",
       "90    20.466069\n",
       "93    45.254067\n",
       "96    27.400199\n",
       "Name: Age, dtype: float64"
      ]
     },
     "execution_count": 37,
     "metadata": {},
     "output_type": "execute_result"
    }
   ],
   "source": [
    "grouped['Age'].filter(lambda x:x.sum()>700)"
   ]
  },
  {
   "cell_type": "code",
   "execution_count": 39,
   "metadata": {},
   "outputs": [
    {
     "data": {
      "text/html": [
       "<div>\n",
       "<style scoped>\n",
       "    .dataframe tbody tr th:only-of-type {\n",
       "        vertical-align: middle;\n",
       "    }\n",
       "\n",
       "    .dataframe tbody tr th {\n",
       "        vertical-align: top;\n",
       "    }\n",
       "\n",
       "    .dataframe thead th {\n",
       "        text-align: right;\n",
       "    }\n",
       "</style>\n",
       "<table border=\"1\" class=\"dataframe\">\n",
       "  <thead>\n",
       "    <tr style=\"text-align: right;\">\n",
       "      <th></th>\n",
       "      <th>Height</th>\n",
       "      <th>Weight</th>\n",
       "      <th>Age</th>\n",
       "      <th>Income</th>\n",
       "    </tr>\n",
       "  </thead>\n",
       "  <tbody>\n",
       "    <tr>\n",
       "      <td>0</td>\n",
       "      <td>-0.879891</td>\n",
       "      <td>1.062026</td>\n",
       "      <td>-0.505088</td>\n",
       "      <td>1.839187</td>\n",
       "    </tr>\n",
       "    <tr>\n",
       "      <td>1</td>\n",
       "      <td>-0.882427</td>\n",
       "      <td>-0.190125</td>\n",
       "      <td>-0.519439</td>\n",
       "      <td>-0.907688</td>\n",
       "    </tr>\n",
       "    <tr>\n",
       "      <td>2</td>\n",
       "      <td>-2.018678</td>\n",
       "      <td>-1.456320</td>\n",
       "      <td>0.530325</td>\n",
       "      <td>-0.833031</td>\n",
       "    </tr>\n",
       "    <tr>\n",
       "      <td>3</td>\n",
       "      <td>0.598044</td>\n",
       "      <td>0.011603</td>\n",
       "      <td>-0.021373</td>\n",
       "      <td>0.723276</td>\n",
       "    </tr>\n",
       "    <tr>\n",
       "      <td>4</td>\n",
       "      <td>1.872549</td>\n",
       "      <td>-0.219206</td>\n",
       "      <td>1.310057</td>\n",
       "      <td>-0.318799</td>\n",
       "    </tr>\n",
       "    <tr>\n",
       "      <td>...</td>\n",
       "      <td>...</td>\n",
       "      <td>...</td>\n",
       "      <td>...</td>\n",
       "      <td>...</td>\n",
       "    </tr>\n",
       "    <tr>\n",
       "      <td>95</td>\n",
       "      <td>0.194682</td>\n",
       "      <td>0.234642</td>\n",
       "      <td>0.542964</td>\n",
       "      <td>-0.149092</td>\n",
       "    </tr>\n",
       "    <tr>\n",
       "      <td>96</td>\n",
       "      <td>0.659732</td>\n",
       "      <td>-0.172569</td>\n",
       "      <td>-0.883525</td>\n",
       "      <td>-0.897093</td>\n",
       "    </tr>\n",
       "    <tr>\n",
       "      <td>97</td>\n",
       "      <td>-0.822260</td>\n",
       "      <td>1.350001</td>\n",
       "      <td>0.695724</td>\n",
       "      <td>-0.092254</td>\n",
       "    </tr>\n",
       "    <tr>\n",
       "      <td>98</td>\n",
       "      <td>-0.583377</td>\n",
       "      <td>2.025841</td>\n",
       "      <td>0.851737</td>\n",
       "      <td>-0.712376</td>\n",
       "    </tr>\n",
       "    <tr>\n",
       "      <td>99</td>\n",
       "      <td>-0.988017</td>\n",
       "      <td>-1.109081</td>\n",
       "      <td>0.923295</td>\n",
       "      <td>0.572558</td>\n",
       "    </tr>\n",
       "  </tbody>\n",
       "</table>\n",
       "<p>100 rows × 4 columns</p>\n",
       "</div>"
      ],
      "text/plain": [
       "      Height    Weight       Age    Income\n",
       "0  -0.879891  1.062026 -0.505088  1.839187\n",
       "1  -0.882427 -0.190125 -0.519439 -0.907688\n",
       "2  -2.018678 -1.456320  0.530325 -0.833031\n",
       "3   0.598044  0.011603 -0.021373  0.723276\n",
       "4   1.872549 -0.219206  1.310057 -0.318799\n",
       "..       ...       ...       ...       ...\n",
       "95  0.194682  0.234642  0.542964 -0.149092\n",
       "96  0.659732 -0.172569 -0.883525 -0.897093\n",
       "97 -0.822260  1.350001  0.695724 -0.092254\n",
       "98 -0.583377  2.025841  0.851737 -0.712376\n",
       "99 -0.988017 -1.109081  0.923295  0.572558\n",
       "\n",
       "[100 rows x 4 columns]"
      ]
     },
     "execution_count": 39,
     "metadata": {},
     "output_type": "execute_result"
    }
   ],
   "source": [
    "zscore = lambda x: (x - x.mean()) / x.std()\n",
    "grouped.transform(zscore)"
   ]
  },
  {
   "cell_type": "code",
   "execution_count": 42,
   "metadata": {},
   "outputs": [
    {
     "data": {
      "text/html": [
       "<div>\n",
       "<style scoped>\n",
       "    .dataframe tbody tr th:only-of-type {\n",
       "        vertical-align: middle;\n",
       "    }\n",
       "\n",
       "    .dataframe tbody tr th {\n",
       "        vertical-align: top;\n",
       "    }\n",
       "\n",
       "    .dataframe thead th {\n",
       "        text-align: right;\n",
       "    }\n",
       "</style>\n",
       "<table border=\"1\" class=\"dataframe\">\n",
       "  <thead>\n",
       "    <tr style=\"text-align: right;\">\n",
       "      <th></th>\n",
       "      <th>Height</th>\n",
       "      <th>Weight</th>\n",
       "      <th>Age</th>\n",
       "      <th>Income</th>\n",
       "    </tr>\n",
       "  </thead>\n",
       "  <tbody>\n",
       "    <tr>\n",
       "      <td>0</td>\n",
       "      <td>124.180149</td>\n",
       "      <td>71.844102</td>\n",
       "      <td>29.899476</td>\n",
       "      <td>17215.922534</td>\n",
       "    </tr>\n",
       "    <tr>\n",
       "      <td>1</td>\n",
       "      <td>131.656223</td>\n",
       "      <td>58.376976</td>\n",
       "      <td>32.997144</td>\n",
       "      <td>14557.680304</td>\n",
       "    </tr>\n",
       "    <tr>\n",
       "      <td>2</td>\n",
       "      <td>91.514607</td>\n",
       "      <td>35.717687</td>\n",
       "      <td>39.065905</td>\n",
       "      <td>14159.283187</td>\n",
       "    </tr>\n",
       "    <tr>\n",
       "      <td>3</td>\n",
       "      <td>157.663800</td>\n",
       "      <td>59.508021</td>\n",
       "      <td>34.345424</td>\n",
       "      <td>16744.351536</td>\n",
       "    </tr>\n",
       "    <tr>\n",
       "      <td>4</td>\n",
       "      <td>216.376034</td>\n",
       "      <td>47.553285</td>\n",
       "      <td>47.241235</td>\n",
       "      <td>14689.993167</td>\n",
       "    </tr>\n",
       "    <tr>\n",
       "      <td>...</td>\n",
       "      <td>...</td>\n",
       "      <td>...</td>\n",
       "      <td>...</td>\n",
       "      <td>...</td>\n",
       "    </tr>\n",
       "    <tr>\n",
       "      <td>95</td>\n",
       "      <td>147.467060</td>\n",
       "      <td>63.122776</td>\n",
       "      <td>39.174046</td>\n",
       "      <td>15295.324796</td>\n",
       "    </tr>\n",
       "    <tr>\n",
       "      <td>96</td>\n",
       "      <td>169.960192</td>\n",
       "      <td>60.231544</td>\n",
       "      <td>27.400199</td>\n",
       "      <td>13467.494815</td>\n",
       "    </tr>\n",
       "    <tr>\n",
       "      <td>97</td>\n",
       "      <td>121.759338</td>\n",
       "      <td>81.199171</td>\n",
       "      <td>40.481103</td>\n",
       "      <td>15389.733432</td>\n",
       "    </tr>\n",
       "    <tr>\n",
       "      <td>98</td>\n",
       "      <td>142.422812</td>\n",
       "      <td>104.485428</td>\n",
       "      <td>45.559328</td>\n",
       "      <td>13864.716140</td>\n",
       "    </tr>\n",
       "    <tr>\n",
       "      <td>99</td>\n",
       "      <td>128.665562</td>\n",
       "      <td>41.095861</td>\n",
       "      <td>47.912973</td>\n",
       "      <td>16539.121262</td>\n",
       "    </tr>\n",
       "  </tbody>\n",
       "</table>\n",
       "<p>100 rows × 4 columns</p>\n",
       "</div>"
      ],
      "text/plain": [
       "        Height      Weight        Age        Income\n",
       "0   124.180149   71.844102  29.899476  17215.922534\n",
       "1   131.656223   58.376976  32.997144  14557.680304\n",
       "2    91.514607   35.717687  39.065905  14159.283187\n",
       "3   157.663800   59.508021  34.345424  16744.351536\n",
       "4   216.376034   47.553285  47.241235  14689.993167\n",
       "..         ...         ...        ...           ...\n",
       "95  147.467060   63.122776  39.174046  15295.324796\n",
       "96  169.960192   60.231544  27.400199  13467.494815\n",
       "97  121.759338   81.199171  40.481103  15389.733432\n",
       "98  142.422812  104.485428  45.559328  13864.716140\n",
       "99  128.665562   41.095861  47.912973  16539.121262\n",
       "\n",
       "[100 rows x 4 columns]"
      ]
     },
     "execution_count": 42,
     "metadata": {},
     "output_type": "execute_result"
    }
   ],
   "source": [
    "f = lambda x: x.fillna(x.mean())\n",
    "grouped.transform(f)"
   ]
  },
  {
   "cell_type": "code",
   "execution_count": null,
   "metadata": {},
   "outputs": [],
   "source": [
    "import numpy as np\n",
    "with open('Dataset/PredA/Chapter 2/Customer Churn Model.txt','r') as f:\n",
    "    data=f.read().split('\\n')\n",
    "np.random.shuffle(data)\n",
    "a=3*len(data)/4\n",
    "b=len(data)/4\n",
    "train_data = data[:a]\n",
    "test_data = data[b:]     #splitting train and test Data by shuffling"
   ]
  },
  {
   "cell_type": "code",
   "execution_count": 59,
   "metadata": {},
   "outputs": [
    {
     "data": {
      "text/html": [
       "<div>\n",
       "<style scoped>\n",
       "    .dataframe tbody tr th:only-of-type {\n",
       "        vertical-align: middle;\n",
       "    }\n",
       "\n",
       "    .dataframe tbody tr th {\n",
       "        vertical-align: top;\n",
       "    }\n",
       "\n",
       "    .dataframe thead th {\n",
       "        text-align: right;\n",
       "    }\n",
       "</style>\n",
       "<table border=\"1\" class=\"dataframe\">\n",
       "  <thead>\n",
       "    <tr style=\"text-align: right;\">\n",
       "      <th></th>\n",
       "      <th>fixed acidity</th>\n",
       "      <th>volatile acidity</th>\n",
       "      <th>citric acid</th>\n",
       "      <th>residual sugar</th>\n",
       "      <th>chlorides</th>\n",
       "      <th>free sulfur dioxide</th>\n",
       "      <th>total sulfur dioxide</th>\n",
       "      <th>density</th>\n",
       "      <th>pH</th>\n",
       "      <th>sulphates</th>\n",
       "      <th>alcohol</th>\n",
       "      <th>quality</th>\n",
       "    </tr>\n",
       "  </thead>\n",
       "  <tbody>\n",
       "    <tr>\n",
       "      <td>0</td>\n",
       "      <td>7.0</td>\n",
       "      <td>0.27</td>\n",
       "      <td>0.36</td>\n",
       "      <td>20.7</td>\n",
       "      <td>0.045</td>\n",
       "      <td>45.0</td>\n",
       "      <td>170.0</td>\n",
       "      <td>1.0010</td>\n",
       "      <td>3.00</td>\n",
       "      <td>0.45</td>\n",
       "      <td>8.8</td>\n",
       "      <td>6</td>\n",
       "    </tr>\n",
       "    <tr>\n",
       "      <td>1</td>\n",
       "      <td>6.3</td>\n",
       "      <td>0.30</td>\n",
       "      <td>0.34</td>\n",
       "      <td>1.6</td>\n",
       "      <td>0.049</td>\n",
       "      <td>14.0</td>\n",
       "      <td>132.0</td>\n",
       "      <td>0.9940</td>\n",
       "      <td>3.30</td>\n",
       "      <td>0.49</td>\n",
       "      <td>9.5</td>\n",
       "      <td>6</td>\n",
       "    </tr>\n",
       "    <tr>\n",
       "      <td>2</td>\n",
       "      <td>8.1</td>\n",
       "      <td>0.28</td>\n",
       "      <td>0.40</td>\n",
       "      <td>6.9</td>\n",
       "      <td>0.050</td>\n",
       "      <td>30.0</td>\n",
       "      <td>97.0</td>\n",
       "      <td>0.9951</td>\n",
       "      <td>3.26</td>\n",
       "      <td>0.44</td>\n",
       "      <td>10.1</td>\n",
       "      <td>6</td>\n",
       "    </tr>\n",
       "    <tr>\n",
       "      <td>3</td>\n",
       "      <td>7.2</td>\n",
       "      <td>0.23</td>\n",
       "      <td>0.32</td>\n",
       "      <td>8.5</td>\n",
       "      <td>0.058</td>\n",
       "      <td>47.0</td>\n",
       "      <td>186.0</td>\n",
       "      <td>0.9956</td>\n",
       "      <td>3.19</td>\n",
       "      <td>0.40</td>\n",
       "      <td>9.9</td>\n",
       "      <td>6</td>\n",
       "    </tr>\n",
       "    <tr>\n",
       "      <td>4</td>\n",
       "      <td>7.2</td>\n",
       "      <td>0.23</td>\n",
       "      <td>0.32</td>\n",
       "      <td>8.5</td>\n",
       "      <td>0.058</td>\n",
       "      <td>47.0</td>\n",
       "      <td>186.0</td>\n",
       "      <td>0.9956</td>\n",
       "      <td>3.19</td>\n",
       "      <td>0.40</td>\n",
       "      <td>9.9</td>\n",
       "      <td>6</td>\n",
       "    </tr>\n",
       "  </tbody>\n",
       "</table>\n",
       "</div>"
      ],
      "text/plain": [
       "   fixed acidity  volatile acidity  citric acid  residual sugar  chlorides  \\\n",
       "0            7.0              0.27         0.36            20.7      0.045   \n",
       "1            6.3              0.30         0.34             1.6      0.049   \n",
       "2            8.1              0.28         0.40             6.9      0.050   \n",
       "3            7.2              0.23         0.32             8.5      0.058   \n",
       "4            7.2              0.23         0.32             8.5      0.058   \n",
       "\n",
       "   free sulfur dioxide  total sulfur dioxide  density    pH  sulphates  \\\n",
       "0                 45.0                 170.0   1.0010  3.00       0.45   \n",
       "1                 14.0                 132.0   0.9940  3.30       0.49   \n",
       "2                 30.0                  97.0   0.9951  3.26       0.44   \n",
       "3                 47.0                 186.0   0.9956  3.19       0.40   \n",
       "4                 47.0                 186.0   0.9956  3.19       0.40   \n",
       "\n",
       "   alcohol  quality  \n",
       "0      8.8        6  \n",
       "1      9.5        6  \n",
       "2     10.1        6  \n",
       "3      9.9        6  \n",
       "4      9.9        6  "
      ]
     },
     "execution_count": 59,
     "metadata": {},
     "output_type": "execute_result"
    }
   ],
   "source": [
    "import pandas as pd\n",
    "data1=pd.read_csv('Dataset/PredA/Chapter 3/winequality-red.csv',sep=';')\n",
    "data1.head()\n",
    "data2=pd.read_csv('Dataset/PredA/Chapter 3/winequality-white.csv',sep=';')\n",
    "data2.head()"
   ]
  },
  {
   "cell_type": "code",
   "execution_count": 61,
   "metadata": {},
   "outputs": [],
   "source": [
    "wine_total=pd.concat([data1,data2],axis=0)"
   ]
  },
  {
   "cell_type": "code",
   "execution_count": 63,
   "metadata": {},
   "outputs": [
    {
     "data": {
      "text/plain": [
       "(6497, 12)"
      ]
     },
     "execution_count": 63,
     "metadata": {},
     "output_type": "execute_result"
    }
   ],
   "source": [
    "wine_total.shape"
   ]
  },
  {
   "cell_type": "markdown",
   "metadata": {},
   "source": [
    "##### loop through files  in folder on serial nos.. and concat all....."
   ]
  },
  {
   "cell_type": "code",
   "execution_count": 66,
   "metadata": {},
   "outputs": [],
   "source": [
    "import pandas as pd           \n",
    "filepath='Dataset/PredA/Chapter 3/lotofdata'\n",
    "data_final=pd.read_csv('Dataset/PredA/Chapter 3/lotofdata/001.csv')\n",
    "for i in range(1,333):\n",
    "    if i<10:\n",
    "        filename='0'+'0'+str(i)+'.csv'\n",
    "    if 10<=i<100:\n",
    "        filename='0'+str(i)+'.csv'\n",
    "    if i>=100:\n",
    "        filename=str(i)+'.csv'\n",
    "file=filepath+'/'+filename\n",
    "data=pd.read_csv(file)"
   ]
  },
  {
   "cell_type": "code",
   "execution_count": 339,
   "metadata": {},
   "outputs": [
    {
     "data": {
      "text/plain": [
       "804096"
      ]
     },
     "execution_count": 339,
     "metadata": {},
     "output_type": "execute_result"
    }
   ],
   "source": [
    "data_final=pd.concat([data_final,data],axis=0)\n",
    "data_final.size"
   ]
  },
  {
   "cell_type": "code",
   "execution_count": 340,
   "metadata": {},
   "outputs": [],
   "source": [
    "import pandas as pd\n",
    "filepath='Dataset/PredA/Chapter 3/lotofdata'\n",
    "data_final=pd.read_csv('Dataset/PredA/Chapter 3/lotofdata/001.csv')\n",
    "data_final_size=len(data_final)\n",
    "for i in range(1,333):\n",
    "    if i<10:\n",
    "        filename='0'+'0'+str(i)+'.csv'\n",
    "    if 10<=i<100:\n",
    "        filename='0'+str(i)+'.csv'\n",
    "    if i>=100:\n",
    "        filename=str(i)+'.csv'\n",
    "file=filepath+'/'+filename\n",
    "data=pd.read_csv(file)"
   ]
  },
  {
   "cell_type": "code",
   "execution_count": 369,
   "metadata": {},
   "outputs": [
    {
     "data": {
      "text/plain": [
       "2924"
      ]
     },
     "execution_count": 369,
     "metadata": {},
     "output_type": "execute_result"
    }
   ],
   "source": [
    "data.size"
   ]
  },
  {
   "cell_type": "markdown",
   "metadata": {},
   "source": [
    "##### csv to txt"
   ]
  },
  {
   "cell_type": "code",
   "execution_count": 8,
   "metadata": {},
   "outputs": [
    {
     "name": "stdout",
     "output_type": "stream",
     "text": [
      "File Successfully written.\n"
     ]
    }
   ],
   "source": [
    "csv_file = 'Dataset/PredA/Chapter 3/Medals/Medals.csv'\n",
    "txt_file = 'Dataset/PredA/Chapter 3/Medals/Medalsf.txt'\n",
    "\n",
    "text_list = []\n",
    "\n",
    "with open(csv_file, \"r\") as my_input_file:\n",
    "    for line in my_input_file:\n",
    "        line = line.split(\",\", 2)\n",
    "        text_list.append(\" \".join(line))\n",
    "\n",
    "with open(txt_file, \"w\") as my_output_file:\n",
    "    my_output_file.write(\"#1\\n\")\n",
    "    my_output_file.write(\"double({},{})\\n\".format(len(text_list), 2))\n",
    "    for line in text_list:\n",
    "        my_output_file.write(line)\n",
    "    print('File Successfully written.')"
   ]
  },
  {
   "cell_type": "markdown",
   "metadata": {},
   "source": [
    "##### Utf-8 conversion"
   ]
  },
  {
   "cell_type": "code",
   "execution_count": 4,
   "metadata": {},
   "outputs": [],
   "source": [
    "import pandas as pd\n",
    "import csv\n",
    "\n",
    "# with open('Dataset/PredA/Chapter 3/Medals/Medals.csv', 'w', newline='', encoding='utf-8') as csv_file:\n",
    "#     writer = csv.writer(csv_file, delimiter=';')\n",
    "#     writer.writerow('my_utf8_string')\n",
    "# with open('Dataset/PredA/Chapter 3/Medals/Medals.csv') as f:\n",
    "#     f=f.encode('utf-8').strip()\n",
    "\n",
    "# data_main=pd.read_csv(f)\n",
    "# data_main.head()\n"
   ]
  },
  {
   "cell_type": "code",
   "execution_count": 40,
   "metadata": {},
   "outputs": [
    {
     "data": {
      "text/plain": [
       "Index(['Athlete', 'Age', 'Year', 'Closing Ceremony Date', 'Gold Medals',\n",
       "       'Silver Medals', 'Bronze Medals', 'Total Medals'],\n",
       "      dtype='object')"
      ]
     },
     "execution_count": 40,
     "metadata": {},
     "output_type": "execute_result"
    }
   ],
   "source": [
    "import pandas as pd\n",
    "data_main=pd.read_csv('Dataset/PredA/Chapter 3/Medals/Medals.csv')\n",
    "data_main.columns"
   ]
  },
  {
   "cell_type": "code",
   "execution_count": 41,
   "metadata": {},
   "outputs": [
    {
     "data": {
      "text/plain": [
       "6956"
      ]
     },
     "execution_count": 41,
     "metadata": {},
     "output_type": "execute_result"
    }
   ],
   "source": [
    "a=data_main['Athlete'].unique().tolist()\n",
    "len(a)"
   ]
  },
  {
   "cell_type": "code",
   "execution_count": 43,
   "metadata": {},
   "outputs": [
    {
     "data": {
      "text/html": [
       "<div>\n",
       "<style scoped>\n",
       "    .dataframe tbody tr th:only-of-type {\n",
       "        vertical-align: middle;\n",
       "    }\n",
       "\n",
       "    .dataframe tbody tr th {\n",
       "        vertical-align: top;\n",
       "    }\n",
       "\n",
       "    .dataframe thead th {\n",
       "        text-align: right;\n",
       "    }\n",
       "</style>\n",
       "<table border=\"1\" class=\"dataframe\">\n",
       "  <thead>\n",
       "    <tr style=\"text-align: right;\">\n",
       "      <th></th>\n",
       "      <th>Athlete</th>\n",
       "      <th>Country</th>\n",
       "    </tr>\n",
       "  </thead>\n",
       "  <tbody>\n",
       "    <tr>\n",
       "      <td>0</td>\n",
       "      <td>Michael Phelps</td>\n",
       "      <td>United States</td>\n",
       "    </tr>\n",
       "    <tr>\n",
       "      <td>1</td>\n",
       "      <td>Natalie Coughlin</td>\n",
       "      <td>United States</td>\n",
       "    </tr>\n",
       "    <tr>\n",
       "      <td>2</td>\n",
       "      <td>Aleksey Nemov</td>\n",
       "      <td>Russia</td>\n",
       "    </tr>\n",
       "    <tr>\n",
       "      <td>3</td>\n",
       "      <td>Alicia Coutts</td>\n",
       "      <td>Australia</td>\n",
       "    </tr>\n",
       "    <tr>\n",
       "      <td>4</td>\n",
       "      <td>Missy Franklin</td>\n",
       "      <td>United States</td>\n",
       "    </tr>\n",
       "  </tbody>\n",
       "</table>\n",
       "</div>"
      ],
      "text/plain": [
       "            Athlete        Country\n",
       "0    Michael Phelps  United States\n",
       "1  Natalie Coughlin  United States\n",
       "2     Aleksey Nemov         Russia\n",
       "3     Alicia Coutts      Australia\n",
       "4    Missy Franklin  United States"
      ]
     },
     "execution_count": 43,
     "metadata": {},
     "output_type": "execute_result"
    }
   ],
   "source": [
    "country_map=pd.read_csv('Dataset/PredA/Chapter 3/Medals/Athelete_Country_Map.csv')\n",
    "country_map.head()"
   ]
  },
  {
   "cell_type": "code",
   "execution_count": 44,
   "metadata": {},
   "outputs": [
    {
     "data": {
      "text/html": [
       "<div>\n",
       "<style scoped>\n",
       "    .dataframe tbody tr th:only-of-type {\n",
       "        vertical-align: middle;\n",
       "    }\n",
       "\n",
       "    .dataframe tbody tr th {\n",
       "        vertical-align: top;\n",
       "    }\n",
       "\n",
       "    .dataframe thead th {\n",
       "        text-align: right;\n",
       "    }\n",
       "</style>\n",
       "<table border=\"1\" class=\"dataframe\">\n",
       "  <thead>\n",
       "    <tr style=\"text-align: right;\">\n",
       "      <th></th>\n",
       "      <th>Athlete</th>\n",
       "      <th>Country</th>\n",
       "    </tr>\n",
       "  </thead>\n",
       "  <tbody>\n",
       "    <tr>\n",
       "      <td>1029</td>\n",
       "      <td>Aleksandar Ciric</td>\n",
       "      <td>Serbia</td>\n",
       "    </tr>\n",
       "    <tr>\n",
       "      <td>1086</td>\n",
       "      <td>Aleksandar Ciric</td>\n",
       "      <td>Serbia and Montenegro</td>\n",
       "    </tr>\n",
       "  </tbody>\n",
       "</table>\n",
       "</div>"
      ],
      "text/plain": [
       "               Athlete                Country\n",
       "1029  Aleksandar Ciric                 Serbia\n",
       "1086  Aleksandar Ciric  Serbia and Montenegro"
      ]
     },
     "execution_count": 44,
     "metadata": {},
     "output_type": "execute_result"
    }
   ],
   "source": [
    "country_map[country_map['Athlete']=='Aleksandar Ciric']"
   ]
  },
  {
   "cell_type": "code",
   "execution_count": 46,
   "metadata": {},
   "outputs": [
    {
     "data": {
      "text/html": [
       "<div>\n",
       "<style scoped>\n",
       "    .dataframe tbody tr th:only-of-type {\n",
       "        vertical-align: middle;\n",
       "    }\n",
       "\n",
       "    .dataframe tbody tr th {\n",
       "        vertical-align: top;\n",
       "    }\n",
       "\n",
       "    .dataframe thead th {\n",
       "        text-align: right;\n",
       "    }\n",
       "</style>\n",
       "<table border=\"1\" class=\"dataframe\">\n",
       "  <thead>\n",
       "    <tr style=\"text-align: right;\">\n",
       "      <th></th>\n",
       "      <th>Athlete</th>\n",
       "      <th>Sport</th>\n",
       "    </tr>\n",
       "  </thead>\n",
       "  <tbody>\n",
       "    <tr>\n",
       "      <td>0</td>\n",
       "      <td>Michael Phelps</td>\n",
       "      <td>Swimming</td>\n",
       "    </tr>\n",
       "    <tr>\n",
       "      <td>1</td>\n",
       "      <td>Natalie Coughlin</td>\n",
       "      <td>Swimming</td>\n",
       "    </tr>\n",
       "    <tr>\n",
       "      <td>2</td>\n",
       "      <td>Aleksey Nemov</td>\n",
       "      <td>Gymnastics</td>\n",
       "    </tr>\n",
       "    <tr>\n",
       "      <td>3</td>\n",
       "      <td>Alicia Coutts</td>\n",
       "      <td>Swimming</td>\n",
       "    </tr>\n",
       "    <tr>\n",
       "      <td>4</td>\n",
       "      <td>Missy Franklin</td>\n",
       "      <td>Swimming</td>\n",
       "    </tr>\n",
       "  </tbody>\n",
       "</table>\n",
       "</div>"
      ],
      "text/plain": [
       "            Athlete       Sport\n",
       "0    Michael Phelps    Swimming\n",
       "1  Natalie Coughlin    Swimming\n",
       "2     Aleksey Nemov  Gymnastics\n",
       "3     Alicia Coutts    Swimming\n",
       "4    Missy Franklin    Swimming"
      ]
     },
     "execution_count": 46,
     "metadata": {},
     "output_type": "execute_result"
    }
   ],
   "source": [
    "sports_map=pd.read_csv('Dataset/PredA/Chapter 3/Medals/Athelete_Sports_Map.csv')\n",
    "sports_map.head()"
   ]
  },
  {
   "cell_type": "code",
   "execution_count": 48,
   "metadata": {},
   "outputs": [
    {
     "data": {
      "text/html": [
       "<div>\n",
       "<style scoped>\n",
       "    .dataframe tbody tr th:only-of-type {\n",
       "        vertical-align: middle;\n",
       "    }\n",
       "\n",
       "    .dataframe tbody tr th {\n",
       "        vertical-align: top;\n",
       "    }\n",
       "\n",
       "    .dataframe thead th {\n",
       "        text-align: right;\n",
       "    }\n",
       "</style>\n",
       "<table border=\"1\" class=\"dataframe\">\n",
       "  <thead>\n",
       "    <tr style=\"text-align: right;\">\n",
       "      <th></th>\n",
       "      <th>Athlete</th>\n",
       "      <th>Sport</th>\n",
       "    </tr>\n",
       "  </thead>\n",
       "  <tbody>\n",
       "    <tr>\n",
       "      <td>528</td>\n",
       "      <td>Richard Thompson</td>\n",
       "      <td>Athletics</td>\n",
       "    </tr>\n",
       "    <tr>\n",
       "      <td>1308</td>\n",
       "      <td>Chen Jing</td>\n",
       "      <td>Volleyball</td>\n",
       "    </tr>\n",
       "    <tr>\n",
       "      <td>1419</td>\n",
       "      <td>Chen Jing</td>\n",
       "      <td>Table Tennis</td>\n",
       "    </tr>\n",
       "    <tr>\n",
       "      <td>2727</td>\n",
       "      <td>Matt Ryan</td>\n",
       "      <td>Rowing</td>\n",
       "    </tr>\n",
       "    <tr>\n",
       "      <td>5003</td>\n",
       "      <td>Matt Ryan</td>\n",
       "      <td>Equestrian</td>\n",
       "    </tr>\n",
       "    <tr>\n",
       "      <td>5691</td>\n",
       "      <td>Richard Thompson</td>\n",
       "      <td>Baseball</td>\n",
       "    </tr>\n",
       "  </tbody>\n",
       "</table>\n",
       "</div>"
      ],
      "text/plain": [
       "               Athlete         Sport\n",
       "528   Richard Thompson     Athletics\n",
       "1308         Chen Jing    Volleyball\n",
       "1419         Chen Jing  Table Tennis\n",
       "2727         Matt Ryan        Rowing\n",
       "5003         Matt Ryan    Equestrian\n",
       "5691  Richard Thompson      Baseball"
      ]
     },
     "execution_count": 48,
     "metadata": {},
     "output_type": "execute_result"
    }
   ],
   "source": [
    "sports_map[(sports_map['Athlete']=='Chen Jing') | (sports_map['Athlete']=='Richard Thompson') | (sports_map['Athlete']=='Matt Ryan')]"
   ]
  },
  {
   "cell_type": "code",
   "execution_count": 51,
   "metadata": {},
   "outputs": [
    {
     "data": {
      "text/html": [
       "<div>\n",
       "<style scoped>\n",
       "    .dataframe tbody tr th:only-of-type {\n",
       "        vertical-align: middle;\n",
       "    }\n",
       "\n",
       "    .dataframe tbody tr th {\n",
       "        vertical-align: top;\n",
       "    }\n",
       "\n",
       "    .dataframe thead th {\n",
       "        text-align: right;\n",
       "    }\n",
       "</style>\n",
       "<table border=\"1\" class=\"dataframe\">\n",
       "  <thead>\n",
       "    <tr style=\"text-align: right;\">\n",
       "      <th></th>\n",
       "      <th>Athlete</th>\n",
       "      <th>Age</th>\n",
       "      <th>Year</th>\n",
       "      <th>Closing Ceremony Date</th>\n",
       "      <th>Gold Medals</th>\n",
       "      <th>Silver Medals</th>\n",
       "      <th>Bronze Medals</th>\n",
       "      <th>Total Medals</th>\n",
       "      <th>Country</th>\n",
       "    </tr>\n",
       "  </thead>\n",
       "  <tbody>\n",
       "    <tr>\n",
       "      <td>0</td>\n",
       "      <td>Michael Phelps</td>\n",
       "      <td>23.0</td>\n",
       "      <td>2008</td>\n",
       "      <td>08/24/2008</td>\n",
       "      <td>8</td>\n",
       "      <td>0</td>\n",
       "      <td>0</td>\n",
       "      <td>8</td>\n",
       "      <td>United States</td>\n",
       "    </tr>\n",
       "    <tr>\n",
       "      <td>1</td>\n",
       "      <td>Michael Phelps</td>\n",
       "      <td>19.0</td>\n",
       "      <td>2004</td>\n",
       "      <td>08/29/2004</td>\n",
       "      <td>6</td>\n",
       "      <td>0</td>\n",
       "      <td>2</td>\n",
       "      <td>8</td>\n",
       "      <td>United States</td>\n",
       "    </tr>\n",
       "    <tr>\n",
       "      <td>2</td>\n",
       "      <td>Michael Phelps</td>\n",
       "      <td>27.0</td>\n",
       "      <td>2012</td>\n",
       "      <td>08/12/2012</td>\n",
       "      <td>4</td>\n",
       "      <td>2</td>\n",
       "      <td>0</td>\n",
       "      <td>6</td>\n",
       "      <td>United States</td>\n",
       "    </tr>\n",
       "    <tr>\n",
       "      <td>3</td>\n",
       "      <td>Natalie Coughlin</td>\n",
       "      <td>25.0</td>\n",
       "      <td>2008</td>\n",
       "      <td>08/24/2008</td>\n",
       "      <td>1</td>\n",
       "      <td>2</td>\n",
       "      <td>3</td>\n",
       "      <td>6</td>\n",
       "      <td>United States</td>\n",
       "    </tr>\n",
       "    <tr>\n",
       "      <td>4</td>\n",
       "      <td>Natalie Coughlin</td>\n",
       "      <td>21.0</td>\n",
       "      <td>2004</td>\n",
       "      <td>08/29/2004</td>\n",
       "      <td>2</td>\n",
       "      <td>2</td>\n",
       "      <td>1</td>\n",
       "      <td>5</td>\n",
       "      <td>United States</td>\n",
       "    </tr>\n",
       "  </tbody>\n",
       "</table>\n",
       "</div>"
      ],
      "text/plain": [
       "            Athlete   Age  Year Closing Ceremony Date  Gold Medals  \\\n",
       "0    Michael Phelps  23.0  2008            08/24/2008            8   \n",
       "1    Michael Phelps  19.0  2004            08/29/2004            6   \n",
       "2    Michael Phelps  27.0  2012            08/12/2012            4   \n",
       "3  Natalie Coughlin  25.0  2008            08/24/2008            1   \n",
       "4  Natalie Coughlin  21.0  2004            08/29/2004            2   \n",
       "\n",
       "   Silver Medals  Bronze Medals  Total Medals        Country  \n",
       "0              0              0             8  United States  \n",
       "1              0              2             8  United States  \n",
       "2              2              0             6  United States  \n",
       "3              2              3             6  United States  \n",
       "4              2              1             5  United States  "
      ]
     },
     "execution_count": 51,
     "metadata": {},
     "output_type": "execute_result"
    }
   ],
   "source": [
    "import pandas as pd\n",
    "merged=pd.merge(left=data_main,right=country_map,left_on='Athlete',right_on='Athlete')\n",
    "merged.head()"
   ]
  },
  {
   "cell_type": "code",
   "execution_count": 52,
   "metadata": {},
   "outputs": [
    {
     "data": {
      "text/html": [
       "<div>\n",
       "<style scoped>\n",
       "    .dataframe tbody tr th:only-of-type {\n",
       "        vertical-align: middle;\n",
       "    }\n",
       "\n",
       "    .dataframe tbody tr th {\n",
       "        vertical-align: top;\n",
       "    }\n",
       "\n",
       "    .dataframe thead th {\n",
       "        text-align: right;\n",
       "    }\n",
       "</style>\n",
       "<table border=\"1\" class=\"dataframe\">\n",
       "  <thead>\n",
       "    <tr style=\"text-align: right;\">\n",
       "      <th></th>\n",
       "      <th>Athlete</th>\n",
       "      <th>Age</th>\n",
       "      <th>Year</th>\n",
       "      <th>Closing Ceremony Date</th>\n",
       "      <th>Gold Medals</th>\n",
       "      <th>Silver Medals</th>\n",
       "      <th>Bronze Medals</th>\n",
       "      <th>Total Medals</th>\n",
       "      <th>Country</th>\n",
       "    </tr>\n",
       "  </thead>\n",
       "  <tbody>\n",
       "    <tr>\n",
       "      <td>1503</td>\n",
       "      <td>Aleksandar Ciric</td>\n",
       "      <td>30.0</td>\n",
       "      <td>2008</td>\n",
       "      <td>08/24/2008</td>\n",
       "      <td>0</td>\n",
       "      <td>0</td>\n",
       "      <td>1</td>\n",
       "      <td>1</td>\n",
       "      <td>Serbia</td>\n",
       "    </tr>\n",
       "    <tr>\n",
       "      <td>1504</td>\n",
       "      <td>Aleksandar Ciric</td>\n",
       "      <td>30.0</td>\n",
       "      <td>2008</td>\n",
       "      <td>08/24/2008</td>\n",
       "      <td>0</td>\n",
       "      <td>0</td>\n",
       "      <td>1</td>\n",
       "      <td>1</td>\n",
       "      <td>Serbia and Montenegro</td>\n",
       "    </tr>\n",
       "    <tr>\n",
       "      <td>1505</td>\n",
       "      <td>Aleksandar Ciric</td>\n",
       "      <td>26.0</td>\n",
       "      <td>2004</td>\n",
       "      <td>08/29/2004</td>\n",
       "      <td>0</td>\n",
       "      <td>1</td>\n",
       "      <td>0</td>\n",
       "      <td>1</td>\n",
       "      <td>Serbia</td>\n",
       "    </tr>\n",
       "    <tr>\n",
       "      <td>1506</td>\n",
       "      <td>Aleksandar Ciric</td>\n",
       "      <td>26.0</td>\n",
       "      <td>2004</td>\n",
       "      <td>08/29/2004</td>\n",
       "      <td>0</td>\n",
       "      <td>1</td>\n",
       "      <td>0</td>\n",
       "      <td>1</td>\n",
       "      <td>Serbia and Montenegro</td>\n",
       "    </tr>\n",
       "    <tr>\n",
       "      <td>1507</td>\n",
       "      <td>Aleksandar Ciric</td>\n",
       "      <td>22.0</td>\n",
       "      <td>2000</td>\n",
       "      <td>10/01/2000</td>\n",
       "      <td>0</td>\n",
       "      <td>0</td>\n",
       "      <td>1</td>\n",
       "      <td>1</td>\n",
       "      <td>Serbia</td>\n",
       "    </tr>\n",
       "    <tr>\n",
       "      <td>1508</td>\n",
       "      <td>Aleksandar Ciric</td>\n",
       "      <td>22.0</td>\n",
       "      <td>2000</td>\n",
       "      <td>10/01/2000</td>\n",
       "      <td>0</td>\n",
       "      <td>0</td>\n",
       "      <td>1</td>\n",
       "      <td>1</td>\n",
       "      <td>Serbia and Montenegro</td>\n",
       "    </tr>\n",
       "  </tbody>\n",
       "</table>\n",
       "</div>"
      ],
      "text/plain": [
       "               Athlete   Age  Year Closing Ceremony Date  Gold Medals  \\\n",
       "1503  Aleksandar Ciric  30.0  2008            08/24/2008            0   \n",
       "1504  Aleksandar Ciric  30.0  2008            08/24/2008            0   \n",
       "1505  Aleksandar Ciric  26.0  2004            08/29/2004            0   \n",
       "1506  Aleksandar Ciric  26.0  2004            08/29/2004            0   \n",
       "1507  Aleksandar Ciric  22.0  2000            10/01/2000            0   \n",
       "1508  Aleksandar Ciric  22.0  2000            10/01/2000            0   \n",
       "\n",
       "      Silver Medals  Bronze Medals  Total Medals                Country  \n",
       "1503              0              1             1                 Serbia  \n",
       "1504              0              1             1  Serbia and Montenegro  \n",
       "1505              1              0             1                 Serbia  \n",
       "1506              1              0             1  Serbia and Montenegro  \n",
       "1507              0              1             1                 Serbia  \n",
       "1508              0              1             1  Serbia and Montenegro  "
      ]
     },
     "execution_count": 52,
     "metadata": {},
     "output_type": "execute_result"
    }
   ],
   "source": [
    "merged[merged['Athlete']=='Aleksandar Ciric']"
   ]
  },
  {
   "cell_type": "code",
   "execution_count": 53,
   "metadata": {},
   "outputs": [],
   "source": [
    "country_map_dp=country_map.drop_duplicates(subset='Athlete')"
   ]
  },
  {
   "cell_type": "code",
   "execution_count": 55,
   "metadata": {},
   "outputs": [
    {
     "data": {
      "text/plain": [
       "8618"
      ]
     },
     "execution_count": 55,
     "metadata": {},
     "output_type": "execute_result"
    }
   ],
   "source": [
    "merged_dp=pd.merge(left=data_main,right=country_map_dp,left_on='Athlete',right_on='Athlete')\n",
    "len(merged_dp)"
   ]
  },
  {
   "cell_type": "code",
   "execution_count": 57,
   "metadata": {},
   "outputs": [
    {
     "data": {
      "text/plain": [
       "6956"
      ]
     },
     "execution_count": 57,
     "metadata": {},
     "output_type": "execute_result"
    }
   ],
   "source": [
    "sports_map_dp=sports_map.drop_duplicates(subset='Athlete')\n",
    "len(sports_map_dp)"
   ]
  },
  {
   "cell_type": "code",
   "execution_count": 59,
   "metadata": {},
   "outputs": [
    {
     "data": {
      "text/html": [
       "<div>\n",
       "<style scoped>\n",
       "    .dataframe tbody tr th:only-of-type {\n",
       "        vertical-align: middle;\n",
       "    }\n",
       "\n",
       "    .dataframe tbody tr th {\n",
       "        vertical-align: top;\n",
       "    }\n",
       "\n",
       "    .dataframe thead th {\n",
       "        text-align: right;\n",
       "    }\n",
       "</style>\n",
       "<table border=\"1\" class=\"dataframe\">\n",
       "  <thead>\n",
       "    <tr style=\"text-align: right;\">\n",
       "      <th></th>\n",
       "      <th>Athlete</th>\n",
       "      <th>Age</th>\n",
       "      <th>Year</th>\n",
       "      <th>Closing Ceremony Date</th>\n",
       "      <th>Gold Medals</th>\n",
       "      <th>Silver Medals</th>\n",
       "      <th>Bronze Medals</th>\n",
       "      <th>Total Medals</th>\n",
       "      <th>Country</th>\n",
       "      <th>Sport</th>\n",
       "    </tr>\n",
       "  </thead>\n",
       "  <tbody>\n",
       "    <tr>\n",
       "      <td>0</td>\n",
       "      <td>Michael Phelps</td>\n",
       "      <td>23.0</td>\n",
       "      <td>2008</td>\n",
       "      <td>08/24/2008</td>\n",
       "      <td>8</td>\n",
       "      <td>0</td>\n",
       "      <td>0</td>\n",
       "      <td>8</td>\n",
       "      <td>United States</td>\n",
       "      <td>Swimming</td>\n",
       "    </tr>\n",
       "    <tr>\n",
       "      <td>1</td>\n",
       "      <td>Michael Phelps</td>\n",
       "      <td>19.0</td>\n",
       "      <td>2004</td>\n",
       "      <td>08/29/2004</td>\n",
       "      <td>6</td>\n",
       "      <td>0</td>\n",
       "      <td>2</td>\n",
       "      <td>8</td>\n",
       "      <td>United States</td>\n",
       "      <td>Swimming</td>\n",
       "    </tr>\n",
       "    <tr>\n",
       "      <td>2</td>\n",
       "      <td>Michael Phelps</td>\n",
       "      <td>27.0</td>\n",
       "      <td>2012</td>\n",
       "      <td>08/12/2012</td>\n",
       "      <td>4</td>\n",
       "      <td>2</td>\n",
       "      <td>0</td>\n",
       "      <td>6</td>\n",
       "      <td>United States</td>\n",
       "      <td>Swimming</td>\n",
       "    </tr>\n",
       "    <tr>\n",
       "      <td>3</td>\n",
       "      <td>Natalie Coughlin</td>\n",
       "      <td>25.0</td>\n",
       "      <td>2008</td>\n",
       "      <td>08/24/2008</td>\n",
       "      <td>1</td>\n",
       "      <td>2</td>\n",
       "      <td>3</td>\n",
       "      <td>6</td>\n",
       "      <td>United States</td>\n",
       "      <td>Swimming</td>\n",
       "    </tr>\n",
       "    <tr>\n",
       "      <td>4</td>\n",
       "      <td>Natalie Coughlin</td>\n",
       "      <td>21.0</td>\n",
       "      <td>2004</td>\n",
       "      <td>08/29/2004</td>\n",
       "      <td>2</td>\n",
       "      <td>2</td>\n",
       "      <td>1</td>\n",
       "      <td>5</td>\n",
       "      <td>United States</td>\n",
       "      <td>Swimming</td>\n",
       "    </tr>\n",
       "  </tbody>\n",
       "</table>\n",
       "</div>"
      ],
      "text/plain": [
       "            Athlete   Age  Year Closing Ceremony Date  Gold Medals  \\\n",
       "0    Michael Phelps  23.0  2008            08/24/2008            8   \n",
       "1    Michael Phelps  19.0  2004            08/29/2004            6   \n",
       "2    Michael Phelps  27.0  2012            08/12/2012            4   \n",
       "3  Natalie Coughlin  25.0  2008            08/24/2008            1   \n",
       "4  Natalie Coughlin  21.0  2004            08/29/2004            2   \n",
       "\n",
       "   Silver Medals  Bronze Medals  Total Medals        Country     Sport  \n",
       "0              0              0             8  United States  Swimming  \n",
       "1              0              2             8  United States  Swimming  \n",
       "2              2              0             6  United States  Swimming  \n",
       "3              2              3             6  United States  Swimming  \n",
       "4              2              1             5  United States  Swimming  "
      ]
     },
     "execution_count": 59,
     "metadata": {},
     "output_type": "execute_result"
    }
   ],
   "source": [
    "merged_final=pd.merge(left=merged_dp,right=sports_map_dp,left_on='Athlete',right_on='Athlete')\n",
    "merged_final.head()"
   ]
  },
  {
   "cell_type": "code",
   "execution_count": 66,
   "metadata": {},
   "outputs": [
    {
     "data": {
      "text/plain": [
       "6951"
      ]
     },
     "execution_count": 66,
     "metadata": {},
     "output_type": "execute_result"
    }
   ],
   "source": [
    "country_map_dlt=country_map_dp[(country_map_dp['Athlete']!='Michael Phelps') \\\n",
    "& (country_map_dp['Athlete']!='Natalie Coughlin') \\\n",
    "& (country_map_dp['Athlete']!='Chen Jing') \\\n",
    "& (country_map_dp['Athlete']!='Richard Thompson') \\\n",
    "& (country_map_dp['Athlete']!='Matt Ryan')]\n",
    "len(country_map_dlt)"
   ]
  },
  {
   "cell_type": "code",
   "execution_count": 71,
   "metadata": {},
   "outputs": [
    {
     "data": {
      "text/plain": [
       "8605"
      ]
     },
     "execution_count": 71,
     "metadata": {},
     "output_type": "execute_result"
    }
   ],
   "source": [
    "sports_map_dlt=sports_map_dp[(sports_map_dp['Athlete']!='Michael Phelps') & (sports_map_dp['Athlete']!='Natalie Coughlin') \\\n",
    "& (sports_map_dp['Athlete']!='Chen Jing')             \\\n",
    "& (sports_map_dp['Athlete']!='Richard Thompson')      \\\n",
    "& (sports_map_dp['Athlete']!='Matt Ryan')]            \n",
    "len(sports_map_dlt)\n",
    "\n",
    "data_main_dlt=data_main[(data_main['Athlete']!='Michael Phelps') & (data_main['Athlete']!='Natalie Coughlin') \\\n",
    "& (data_main['Athlete']!='Chen Jing') \\\n",
    "& (data_main['Athlete']!='Richard Thompson') & \\\n",
    "(data_main['Athlete']!='Matt Ryan')] \n",
    "len(data_main_dlt)"
   ]
  },
  {
   "cell_type": "markdown",
   "metadata": {},
   "source": [
    "#### Inner Join"
   ]
  },
  {
   "cell_type": "code",
   "execution_count": 74,
   "metadata": {},
   "outputs": [
    {
     "data": {
      "text/plain": [
       "8605"
      ]
     },
     "execution_count": 74,
     "metadata": {},
     "output_type": "execute_result"
    }
   ],
   "source": [
    "merged_inner=pd.merge(left=data_main,right=country_map_dlt,how='inner',left_on='Athlete',right_on='Athlete')\n",
    "len(merged_inner)"
   ]
  },
  {
   "cell_type": "code",
   "execution_count": 77,
   "metadata": {},
   "outputs": [
    {
     "data": {
      "text/html": [
       "<div>\n",
       "<style scoped>\n",
       "    .dataframe tbody tr th:only-of-type {\n",
       "        vertical-align: middle;\n",
       "    }\n",
       "\n",
       "    .dataframe tbody tr th {\n",
       "        vertical-align: top;\n",
       "    }\n",
       "\n",
       "    .dataframe thead th {\n",
       "        text-align: right;\n",
       "    }\n",
       "</style>\n",
       "<table border=\"1\" class=\"dataframe\">\n",
       "  <thead>\n",
       "    <tr style=\"text-align: right;\">\n",
       "      <th></th>\n",
       "      <th>Input_Variable(X)</th>\n",
       "      <th>Predicted_Output(ypred)</th>\n",
       "      <th>Actual_Output(yact)</th>\n",
       "    </tr>\n",
       "  </thead>\n",
       "  <tbody>\n",
       "    <tr>\n",
       "      <td>0</td>\n",
       "      <td>3.517568</td>\n",
       "      <td>3.055271</td>\n",
       "      <td>2.910399</td>\n",
       "    </tr>\n",
       "    <tr>\n",
       "      <td>1</td>\n",
       "      <td>3.659602</td>\n",
       "      <td>3.097881</td>\n",
       "      <td>3.322824</td>\n",
       "    </tr>\n",
       "    <tr>\n",
       "      <td>2</td>\n",
       "      <td>2.393220</td>\n",
       "      <td>2.717966</td>\n",
       "      <td>2.994541</td>\n",
       "    </tr>\n",
       "    <tr>\n",
       "      <td>3</td>\n",
       "      <td>-0.455062</td>\n",
       "      <td>1.863481</td>\n",
       "      <td>2.707044</td>\n",
       "    </tr>\n",
       "    <tr>\n",
       "      <td>4</td>\n",
       "      <td>2.501640</td>\n",
       "      <td>2.750492</td>\n",
       "      <td>3.542171</td>\n",
       "    </tr>\n",
       "  </tbody>\n",
       "</table>\n",
       "</div>"
      ],
      "text/plain": [
       "   Input_Variable(X)  Predicted_Output(ypred)  Actual_Output(yact)\n",
       "0           3.517568                 3.055271             2.910399\n",
       "1           3.659602                 3.097881             3.322824\n",
       "2           2.393220                 2.717966             2.994541\n",
       "3          -0.455062                 1.863481             2.707044\n",
       "4           2.501640                 2.750492             3.542171"
      ]
     },
     "execution_count": 77,
     "metadata": {},
     "output_type": "execute_result"
    }
   ],
   "source": [
    "import pandas as pd\n",
    "import numpy as np\n",
    "x=2.5*np.random.randn(100)+1.5\n",
    "res=.5*np.random.randn(100)+0\n",
    "ypred=2+.3*x\n",
    "yact=2+.3*x+res\n",
    "xlist=x.tolist()\n",
    "ypredlist=ypred.tolist()\n",
    "yactlist=yact.tolist()\n",
    "df=pd.DataFrame({'Input_Variable(X)':xlist,'Predicted_Output(ypred)':ypredlist,'Actual_Output(yact)':yactlist})\n",
    "df.head()"
   ]
  },
  {
   "cell_type": "code",
   "execution_count": 79,
   "metadata": {},
   "outputs": [
    {
     "data": {
      "text/plain": [
       "Text(0.5, 1.0, 'Actual vs Predicted')"
      ]
     },
     "execution_count": 79,
     "metadata": {},
     "output_type": "execute_result"
    },
    {
     "data": {
      "image/png": "[encoded data removed]",
      "text/plain": [
       "<Figure size 432x288 with 1 Axes>"
      ]
     },
     "metadata": {
      "needs_background": "light"
     },
     "output_type": "display_data"
    }
   ],
   "source": [
    "import numpy as np\n",
    "import matplotlib.pyplot as plt\n",
    "import pandas as pd\n",
    "%matplotlib inline\n",
    "x=2.5*np.random.randn(100)+1.5\n",
    "res=.5*np.random.randn(100)+0\n",
    "ypred=2+.3*x\n",
    "yact=2+.3*x+res\n",
    "ymean=np.mean(yact)\n",
    "yavg=[ymean for i in range(1,len(xlist)+1)]\n",
    "plt.plot(x,ypred)\n",
    "plt.plot(x,yact,'ro')\n",
    "plt.plot(x,yavg)\n",
    "plt.title('Actual vs Predicted')"
   ]
  }
 ],
 "metadata": {
  "kernelspec": {
   "display_name": "Python 3",
   "language": "python",
   "name": "python3"
  },
  "language_info": {
   "codemirror_mode": {
    "name": "ipython",
    "version": 3
   },
   "file_extension": ".py",
   "mimetype": "text/x-python",
   "name": "python",
   "nbconvert_exporter": "python",
   "pygments_lexer": "ipython3",
   "version": "3.7.3"
  }
 },
 "nbformat": 4,
 "nbformat_minor": 2
}

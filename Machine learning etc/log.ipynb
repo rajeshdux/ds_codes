{
 "cells": [
  {
   "cell_type": "code",
   "execution_count": 9,
   "metadata": {},
   "outputs": [],
   "source": [
    "import pandas as pd\n",
    "import re\n",
    "import os"
   ]
  },
  {
   "cell_type": "code",
   "execution_count": 10,
   "metadata": {},
   "outputs": [
    {
     "name": "stdout",
     "output_type": "stream",
     "text": [
      "Detail   Detail \n",
      " ERROR    ERROR        7\n",
      " INFO     INFO      7497\n",
      " WARN     WARN       131\n",
      "Name: Detail, dtype: int64\n"
     ]
    }
   ],
   "source": [
    "with open('log_file.txt') as file:\n",
    "    lines = (file.readlines()[7:])\n",
    "    newlines=[]\n",
    "    l=[]\n",
    "\n",
    "    for i in lines:\n",
    "        newlines.append(str(i.split('\\n')))\n",
    " \n",
    "    for i in newlines:\n",
    "        m=re.search(r'\\s[A-Z]{4,5}\\s',i)\n",
    "        if m:\n",
    "            l.append(m.group())\n",
    "    \n",
    "    df=pd.DataFrame()\n",
    "    df['Detail']=l\n",
    "    d=df.groupby('Detail')['Detail'].value_counts()\n",
    "    print(d)\n"
   ]
  },
  {
   "cell_type": "code",
   "execution_count": 2,
   "metadata": {},
   "outputs": [],
   "source": [
    "string='2014-10-20 14:48:40,961 INFO org.apache.hadoop.hdfs.server.namenode.NameNode: registered UNIX signal handlers for [TERM, HUP, INT]'"
   ]
  },
  {
   "cell_type": "code",
   "execution_count": 8,
   "metadata": {},
   "outputs": [
    {
     "data": {
      "text/plain": [
       "' INFO '"
      ]
     },
     "execution_count": 8,
     "metadata": {},
     "output_type": "execute_result"
    }
   ],
   "source": [
    "import re\n",
    "m=re.search(r'\\s[A-Z]{4,5}\\s',string)\n",
    "m.group()\n"
   ]
  }
 ],
 "metadata": {
  "kernelspec": {
   "display_name": "Python 3",
   "language": "python",
   "name": "python3"
  },
  "language_info": {
   "codemirror_mode": {
    "name": "ipython",
    "version": 3
   },
   "file_extension": ".py",
   "mimetype": "text/x-python",
   "name": "python",
   "nbconvert_exporter": "python",
   "pygments_lexer": "ipython3",
   "version": "3.8.3"
  }
 },
 "nbformat": 4,
 "nbformat_minor": 2
}

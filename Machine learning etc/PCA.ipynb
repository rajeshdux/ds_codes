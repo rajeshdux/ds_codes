{
 "cells": [
  {
   "cell_type": "code",
   "execution_count": 1,
   "metadata": {},
   "outputs": [
    {
     "name": "stdout",
     "output_type": "stream",
     "text": [
      "The solution are (-3+0j) and (-2+0j)\n"
     ]
    }
   ],
   "source": [
    "import cmath\n",
    "a = 1\n",
    "b = 5\n",
    "c = 6\n",
    "# calculate the discriminant\n",
    "d = (b**2) - (4*a*c)\n",
    "# find two solutions\n",
    "sol1 = (-b-cmath.sqrt(d))/(2*a)\n",
    "sol2 = (-b+cmath.sqrt(d))/(2*a)\n",
    "print('The solution are {0} and {1}'.format(sol1,sol2))"
   ]
  },
  {
   "cell_type": "code",
   "execution_count": 2,
   "metadata": {},
   "outputs": [
    {
     "name": "stdout",
     "output_type": "stream",
     "text": [
      "-42.99999999999983\n"
     ]
    }
   ],
   "source": [
    "import numpy as np\n",
    "\n",
    "a = np.array([[67, 19, 21], [39, 13, 14], [81,24,26]])\n",
    "d = np.linalg.det(a)\n",
    "\n",
    "print(d)"
   ]
  },
  {
   "cell_type": "code",
   "execution_count": 3,
   "metadata": {},
   "outputs": [
    {
     "name": "stdout",
     "output_type": "stream",
     "text": [
      "array\n",
      " [[1 2]\n",
      " [4 4]]\n",
      "\n",
      " Mean of transponse of A\n",
      " [2.5 3. ]\n",
      "\n",
      " Centering:\n",
      " [[-1.5 -1. ]\n",
      " [ 1.5  1. ]]\n",
      "\n",
      " Covariance..\n",
      " [[0.5 0. ]\n",
      " [0.  0. ]]\n",
      "\n",
      " Vectors\n",
      " [[1. 0.]\n",
      " [0. 1.]]\n",
      "\n",
      " values\n",
      " [0.5 0. ]\n",
      "\n",
      "Projection\n",
      " [[-1.5 -1. ]\n",
      " [ 1.5  1. ]]\n"
     ]
    }
   ],
   "source": [
    "from numpy import array\n",
    "from numpy import mean\n",
    "from numpy import cov\n",
    "from numpy.linalg import eig\n",
    "# define a matrix\n",
    "A = array([[1, 2], [4, 4]])\n",
    "print('array\\n',A)\n",
    "# calculate the mean of each column\n",
    "M = mean(A.T, axis=1)\n",
    "print('\\n Mean of transponse of A\\n',M)\n",
    "# center columns by subtracting column means\n",
    "C = A - M\n",
    "print('\\n Centering:\\n',C)\n",
    "# calculate covariance matrix of centered matrix\n",
    "V = cov(A)\n",
    "print('\\n Covariance..\\n',V)\n",
    "# eigendecomposition of covariance matrix\n",
    "values, vectors = eig(V)\n",
    "print('\\n Vectors\\n',vectors)\n",
    "print('\\n values\\n',values)\n",
    "# project data\n",
    "P = vectors.T.dot(C.T)\n",
    "print('\\nProjection\\n',P.T)"
   ]
  },
  {
   "cell_type": "code",
   "execution_count": 4,
   "metadata": {},
   "outputs": [
    {
     "name": "stdout",
     "output_type": "stream",
     "text": [
      "array\n",
      " [[1 2]\n",
      " [4 4]]\n"
     ]
    }
   ],
   "source": [
    "# define a matrix\n",
    "A = np.array([[1, 2], [4, 4]])\n",
    "print('array\\n',A)"
   ]
  },
  {
   "cell_type": "code",
   "execution_count": 5,
   "metadata": {},
   "outputs": [
    {
     "name": "stdout",
     "output_type": "stream",
     "text": [
      "\n",
      " Mean of A\n",
      " [2.5 3. ]\n"
     ]
    }
   ],
   "source": [
    "# calculate the mean of each column\n",
    "M = mean(A.T, axis=1)\n",
    "print('\\n Mean of A\\n',M)"
   ]
  },
  {
   "cell_type": "code",
   "execution_count": 7,
   "metadata": {},
   "outputs": [
    {
     "name": "stdout",
     "output_type": "stream",
     "text": [
      "\n",
      "\n",
      "Array\n",
      " [[1 2]\n",
      " [3 4]\n",
      " [5 6]]\n",
      "\n",
      " PCA_components\n",
      " [[ 0.70710678  0.70710678]\n",
      " [-0.70710678  0.70710678]]\n",
      "\n",
      "pca.explained_variance\n",
      " [8. 0.]\n",
      "\n",
      " pca.transform\n",
      " [[-2.82842712e+00 -2.22044605e-16]\n",
      " [ 0.00000000e+00  0.00000000e+00]\n",
      " [ 2.82842712e+00  2.22044605e-16]]\n",
      "\n",
      " Vectors\n",
      " [[1. 0.]\n",
      " [0. 1.]]\n",
      "\n",
      " values\n",
      " [0.5 0. ]\n",
      "\n",
      "Projection\n",
      " [[-1.5 -1. ]\n",
      " [ 1.5  1. ]]\n"
     ]
    }
   ],
   "source": [
    "# Principal Component Analysis\n",
    "from numpy import array\n",
    "from sklearn.decomposition import PCA\n",
    "# define a matrix\n",
    "A = array([[1, 2], [3, 4], [5, 6]])\n",
    "print('\\n\\nArray\\n',A)\n",
    "# create the PCA instance\n",
    "pca = PCA(2)\n",
    "# fit on data\n",
    "pca.fit(A)\n",
    "# access values and vectors\n",
    "print('\\n PCA_components\\n',pca.components_)\n",
    "print('\\npca.explained_variance\\n',pca.explained_variance_)\n",
    "# transform data\n",
    "B = pca.transform(A)\n",
    "print('\\n pca.transform\\n',B)\n",
    "\n",
    "values, vectors = eig(V)\n",
    "print('\\n Vectors\\n',vectors)\n",
    "print('\\n values\\n',values)\n",
    "# project data\n",
    "P = vectors.T.dot(C.T)\n",
    "print('\\nProjection\\n',P.T)\n"
   ]
  },
  {
   "cell_type": "code",
   "execution_count": null,
   "metadata": {},
   "outputs": [],
   "source": []
  }
 ],
 "metadata": {
  "kernelspec": {
   "display_name": "Python 3",
   "language": "python",
   "name": "python3"
  },
  "language_info": {
   "codemirror_mode": {
    "name": "ipython",
    "version": 3
   },
   "file_extension": ".py",
   "mimetype": "text/x-python",
   "name": "python",
   "nbconvert_exporter": "python",
   "pygments_lexer": "ipython3",
   "version": "3.7.3"
  }
 },
 "nbformat": 4,
 "nbformat_minor": 2
}

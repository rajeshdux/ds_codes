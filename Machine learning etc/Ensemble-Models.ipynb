{
 "cells": [
  {
   "cell_type": "code",
   "execution_count": 1,
   "metadata": {},
   "outputs": [
    {
     "name": "stderr",
     "output_type": "stream",
     "text": [
      "E:\\Anzconda\\lib\\site-packages\\sklearn\\linear_model\\logistic.py:433: FutureWarning: Default solver will be changed to 'lbfgs' in 0.22. Specify a solver to silence this warning.\n",
      "  FutureWarning)\n"
     ]
    },
    {
     "name": "stdout",
     "output_type": "stream",
     "text": [
      "****************************************\n",
      "Model Name : Logistic Regression\n",
      "****************************************\n",
      "accuracy_score on train dataset :  0.8089887640449438\n",
      "accuracy_score on test dataset :0.8212290502793296 \n",
      "\n",
      "\n",
      "****************************************\n",
      "Model Name : Random Forest\n",
      "****************************************\n",
      "accuracy_score on train dataset :  0.9662921348314607\n",
      "accuracy_score on test dataset :0.8044692737430168 \n",
      "\n",
      "\n",
      "****************************************\n",
      "Model Name : Decision Tree\n",
      "****************************************\n",
      "accuracy_score on train dataset :  0.9859550561797753\n",
      "accuracy_score on test dataset :0.7877094972067039 \n",
      "\n",
      "\n",
      "Best Model is: Logistic Regression with score 0.8212290502793296:\n"
     ]
    },
    {
     "name": "stderr",
     "output_type": "stream",
     "text": [
      "E:\\Anzconda\\lib\\site-packages\\sklearn\\ensemble\\forest.py:246: FutureWarning: The default value of n_estimators will change from 10 in version 0.20 to 100 in 0.22.\n",
      "  \"10 in version 0.20 to 100 in 0.22.\", FutureWarning)\n"
     ]
    }
   ],
   "source": [
    "# importing required libraries\n",
    "import pandas as pd\n",
    "from sklearn.tree import DecisionTreeClassifier\n",
    "from sklearn.ensemble import RandomForestClassifier\n",
    "from sklearn.linear_model import LogisticRegression\n",
    "from sklearn.metrics import accuracy_score\n",
    "from sklearn.model_selection import KFold\n",
    "\n",
    "\n",
    "train_data = pd.read_csv('Dataset/train-data.csv')\n",
    "test_data = pd.read_csv('Dataset/test-data.csv')\n",
    "\n",
    "train_x = train_data.drop(columns=['Survived'],axis=1)\n",
    "train_y = train_data['Survived']\n",
    "\n",
    "\n",
    "model_dict = {\"Logistic Regression\":LogisticRegression(),\n",
    "              \"Random Forest\":RandomForestClassifier(),\n",
    "              \"Decision Tree\":DecisionTreeClassifier()}\n",
    "res_dict={}\n",
    "\n",
    "for name,models in model_dict.items():\n",
    "    \n",
    "    model = models\n",
    "    \n",
    "    model.fit(train_x,train_y)\n",
    "\n",
    "    predict_train = model.predict(train_x)\n",
    "     \n",
    "\n",
    "    print('*'*40)\n",
    "    print(f'Model Name : {name}')\n",
    "    print('*'*40)\n",
    "    \n",
    "     \n",
    "    # Accuray Score on train dataset\n",
    "    accuracy_train = accuracy_score(train_y,predict_train)\n",
    "    print('accuracy_score on train dataset : ', accuracy_train)\n",
    "\n",
    "    \n",
    "    predict_test = model.predict(test_x)\n",
    "    \n",
    "\n",
    "    # Accuracy Score on test dataset\n",
    "    accuracy_test = accuracy_score(test_y,predict_test)\n",
    "    print(f'accuracy_score on test dataset :{accuracy_test} \\n\\n' )\n",
    "    \n",
    "    res_dict.update({name:accuracy_test})\n",
    "    \n",
    "max=0    \n",
    "for name,score in res_dict.items():\n",
    "    if score > max:\n",
    "        max = score\n",
    "        id=name\n",
    "        \n",
    "\n",
    "print(f'Best Model is: {id} with score {max}:')\n",
    "  "
   ]
  }
 ],
 "metadata": {
  "kernelspec": {
   "display_name": "Python 3",
   "language": "python",
   "name": "python3"
  },
  "language_info": {
   "codemirror_mode": {
    "name": "ipython",
    "version": 3
   },
   "file_extension": ".py",
   "mimetype": "text/x-python",
   "name": "python",
   "nbconvert_exporter": "python",
   "pygments_lexer": "ipython3",
   "version": "3.7.3"
  }
 },
 "nbformat": 4,
 "nbformat_minor": 2
}
